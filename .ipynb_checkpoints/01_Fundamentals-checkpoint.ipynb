{
 "cells": [
  {
   "cell_type": "markdown",
   "metadata": {},
   "source": [
    "# Modules/packages/libraries\n",
    "\n",
    "Definitions:\n",
    "\n",
    "  * Modules:\n",
    "  A module is a file which contains python functions, global variables etc. It is nothing but .py file which has python executable code / statement.\n",
    "\n",
    "  * Packages:\n",
    "  A package is a namespace which contains multiple package/modules. It is a directory which contains a special file `__init__.py`\n",
    "  \n",
    "  * Libraries:\n",
    "  A library is a collection of various packages. There is no difference between package and python library conceptually.\n",
    "  \n",
    "Modules/packages/libraries can be easily \"imported\" and made functional in your python code. A set of libriaries comes with every python installation. Others can be installed locally and then imported. Your own code sitting somewhere else in your local computer can be imported too.\n",
    "\n",
    "Further details (very important!) on packages and how to create them can be found online. We may find the need of creating our own during the course."
   ]
  },
  {
   "cell_type": "code",
   "execution_count": 1,
   "metadata": {},
   "outputs": [
    {
     "name": "stdout",
     "output_type": "stream",
     "text": [
      "3.141592653589793\n",
      "3.141592653589793\n",
      "3.141592653589793\n"
     ]
    }
   ],
   "source": [
    "###### all the \"stuff\" that is in the math library can be used\n",
    "import math\n",
    "print(math.pi)\n",
    "\n",
    "# you can give math a label for convenience\n",
    "import math as m\n",
    "print (m.pi)\n",
    "\n",
    "# alternatively you can import only a given \"thing\" from the library\n",
    "from math import pi    #you can add several libraries at once, just list them separated by a \", \"\n",
    "print (pi)\n",
    "\n",
    "# or just get everything (very dangerous!!!)\n",
    "#from math import *\n",
    "#print (sqrt(7))"
   ]
  },
  {
   "cell_type": "markdown",
   "metadata": {},
   "source": [
    "To know which modules are there for you to use just type:"
   ]
  },
  {
   "cell_type": "code",
   "execution_count": 2,
   "metadata": {},
   "outputs": [
    {
     "name": "stdout",
     "output_type": "stream",
     "text": [
      "\n",
      "Please wait a moment while I gather a list of all available modules...\n",
      "\n"
     ]
    },
    {
     "name": "stderr",
     "output_type": "stream",
     "text": [
      "/home/gaby/anaconda3/lib/python3.13/site-packages/nltk/twitter/__init__.py:20: UserWarning: The twython library has not been installed. Some functionality from the twitter package will not be available.\n",
      "  warnings.warn(\n",
      "/home/gaby/anaconda3/lib/python3.13/site-packages/pydantic/experimental/__init__.py:7: PydanticExperimentalWarning:\n",
      "\n",
      "This module is experimental, its contents are subject to change and deprecation.\n",
      "\n",
      "/home/gaby/anaconda3/lib/python3.13/pkgutil.py:78: UserWarning:\n",
      "\n",
      "The superqt.qtcompat module is deprecated as of v0.3.0. Please import from `qtpy` instead.\n",
      "\n"
     ]
    },
    {
     "name": "stdout",
     "output_type": "stream",
     "text": [
      "3204bda914b7f2c6f497__mypyc binascii            jupyter             readline\n",
      "IPython             binstar_client      jupyter_client      referencing\n",
      "OpenSSL             bisect              jupyter_console     regex\n",
      "PIL                 black               jupyter_core        repo_cli\n",
      "PyQt5               blackd              jupyter_events      reprlib\n",
      "__future__          bleach              jupyter_lsp         requests\n",
      "__hello__           blib2to3            jupyter_server      requests_file\n",
      "__phello__          blinker             jupyter_server_terminals requests_toolbelt\n",
      "_abc                bokeh               jupyterlab          resource\n",
      "_aix_support        boltons             jupyterlab_plotly   rfc3339_validator\n",
      "_android_support    botocore            jupyterlab_pygments rfc3986_validator\n",
      "_apple_support      bottleneck          jupyterlab_server   rich\n",
      "_argon2_cffi_bindings brotli              jupyterlab_widgets  rlcompleter\n",
      "_ast                bs4                 jwt                 roman_numerals\n",
      "_asyncio            builtins            keyring             rope\n",
      "_bisect             bz2                 keyword             rpds\n",
      "_black_version      cProfile            kiwisolver          rtree\n",
      "_blake2             cachetools          lazy_loader         ruamel_yaml\n",
      "_brotli             calendar            lckr_jupyterlab_variableinspector runpy\n",
      "_bz2                certifi             libarchive          s3fs\n",
      "_cffi_backend       cffi                libmambapy          sched\n",
      "_codecs             chardet             lief                scipy\n",
      "_codecs_cn          charset_normalizer  linecache           scrapy\n",
      "_codecs_hk          click               linkify_it          seaborn\n",
      "_codecs_iso2022     cloudpickle         llvmlite            secrets\n",
      "_codecs_jp          cmath               lmdb                secretstorage\n",
      "_codecs_kr          cmd                 locale              select\n",
      "_codecs_tw          code                locket              selectors\n",
      "_collections        codecs              logging             semver\n",
      "_collections_abc    codeop              lxml                send2trash\n",
      "_colorize           collections         lz4                 sentry_sdk\n",
      "_compat_pickle      colorama            lzma                service_identity\n",
      "_compression        colorcet            mailbox             setuptools\n",
      "_contextvars        colorsys            mako                shellingham\n",
      "_csv                comm                markdown            shelve\n",
      "_ctypes             compileall          markdown_it         shlex\n",
      "_ctypes_test        concurrent          markupsafe          shutil\n",
      "_curses             conda               marshal             signal\n",
      "_curses_panel       conda_anaconda_telemetry math                sipbuild\n",
      "_datetime           conda_anaconda_tos  matplotlib          site\n",
      "_decimal            conda_build         matplotlib_inline   sitecustomize\n",
      "_distutils_hack     conda_content_trust mccabe              six\n",
      "_elementtree        conda_env           mdit_py_plugins     skimage\n",
      "_functools          conda_index         mdurl               sklearn\n",
      "_hashlib            conda_libmamba_solver menuinst            sklearn_compat\n",
      "_heapq              conda_pack          mimetypes           slugify\n",
      "_imp                conda_package_handling mistune             smmap\n",
      "_interpchannels     conda_package_streaming mkl                 smtplib\n",
      "_interpqueues       conda_token         mkl_fft             sniffio\n",
      "_interpreters       configparser        mkl_random          snowballstemmer\n",
      "_io                 constantly          mmap                socket\n",
      "_ios_support        contextlib          modulefinder        socketserver\n",
      "_json               contextvars         more_itertools      socks\n",
      "_locale             contourpy           mpmath              sockshandler\n",
      "_lsprof             cookiecutter        msgpack             sortedcontainers\n",
      "_lzma               copy                multidict           soupsieve\n",
      "_markupbase         copyreg             multipledispatch    sphinx\n",
      "_md5                cpuinfo             multiprocessing     spyder\n",
      "_multibytecodec     cryptography        mypy                spyder_kernels\n",
      "_multiprocessing    cssselect           mypy_extensions     sqlalchemy\n",
      "_opcode             csv                 mypyc               sqlite3\n",
      "_opcode_metadata    ctypes              nacl                sre_compile\n",
      "_operator           curl                narwhals            sre_constants\n",
      "_osx_support        curses              navigator_updater   sre_parse\n",
      "_pickle             cycler              nb_conda_kernels    ssl\n",
      "_plotly_future_     cytoolz             nbclient            stack_data\n",
      "_plotly_utils       dask                nbconvert           stat\n",
      "_posixshmem         dask_expr           nbformat            statistics\n",
      "_posixsubprocess    dataclasses         nest_asyncio        statsmodels\n",
      "_py_abc             datashader          netrc               streamlit\n",
      "_pydatetime         datetime            networkx            string\n",
      "_pydecimal          dateutil            nltk                stringprep\n",
      "_pyio               dbm                 notebook            struct\n",
      "_pylong             debugpy             notebook_shim       subprocess\n",
      "_pyrepl             decimal             ntpath              superqt\n",
      "_pytest             decorator           nturl2path          sympy\n",
      "_queue              defusedxml          numba               symtable\n",
      "_random             deprecated          numbergen           sys\n",
      "_ruamel_yaml        diff_match_patch    numbers             sysconfig\n",
      "_sha1               difflib             numexpr             syslog\n",
      "_sha2               dill                numpy               tables\n",
      "_sha3               dis                 numpydoc            tabnanny\n",
      "_signal             distributed         opcode              tabulate\n",
      "_sitebuiltins       distro              openpyxl            tarfile\n",
      "_socket             docstring_to_markdown operator            tblib\n",
      "_sqlite3            doctest             optparse            tempfile\n",
      "_sre                docutils            ordered_set         tenacity\n",
      "_ssl                dotenv              os                  terminado\n",
      "_stat               email               overrides           termios\n",
      "_statistics         encodings           packaging           test\n",
      "_string             ensurepip           pandas              test_pycosat\n",
      "_strptime           enum                pandocfilters       text_unidecode\n",
      "_struct             erfa                panel               textdistance\n",
      "_suggestions        errno               param               textwrap\n",
      "_symtable           et_xmlfile          parsel              this\n",
      "_sysconfig          evalidate           parso               threading\n",
      "_sysconfigdata__linux_x86_64-linux-gnu executing           partd               threadpoolctl\n",
      "_sysconfigdata_x86_64_conda_cos6_linux_gnu fastjsonschema      pathlib             three_merge\n",
      "_sysconfigdata_x86_64_conda_linux_gnu faulthandler        pathspec            tifffile\n",
      "_testbuffer         fcntl               patsy               time\n",
      "_testcapi           filecmp             pdb                 timeit\n",
      "_testclinic         fileinput           pexpect             tinycss2\n",
      "_testclinic_limited filelock            pickle              tkinter\n",
      "_testexternalinspection flake8              pickleshare         tldextract\n",
      "_testimportmultiple flask               pickletools         tlz\n",
      "_testinternalcapi   fnmatch             pip                 token\n",
      "_testlimitedcapi    fontTools           pkce                tokenize\n",
      "_testmultiphase     fractions           pkg_resources       toml\n",
      "_testsinglephase    frozendict          pkginfo             tomli\n",
      "_thread             frozenlist          pkgutil             tomlkit\n",
      "_threading_local    fsspec              platform            tomllib\n",
      "_tkinter            ftplib              platformdirs        toolz\n",
      "_tokenize           functools           plistlib            tornado\n",
      "_tracemalloc        gc                  plotly              tqdm\n",
      "_typing             genericpath         pluggy              trace\n",
      "_uuid               getopt              ply                 traceback\n",
      "_warnings           getpass             poplib              tracemalloc\n",
      "_weakref            gettext             posix               traitlets\n",
      "_weakrefset         git                 posixpath           truststore\n",
      "_xxtestfuzz         gitdb               poyo                tty\n",
      "_yaml               github              pprint              turtle\n",
      "_zoneinfo           glob                profile             turtledemo\n",
      "abc                 gmpy2               prometheus_client   twisted\n",
      "aext_assistant      graphlib            prompt_toolkit      typeguard\n",
      "aext_assistant_server greenlet            propcache           typer\n",
      "aext_core           grp                 protego             types\n",
      "aext_core_server    gzip                pstats              typing\n",
      "aext_environments_server h11                 psutil              typing_extensions\n",
      "aext_panels         h5py                pty                 tzdata\n",
      "aext_panels_server  hashlib             ptyprocess          uc_micro\n",
      "aext_project_filebrowser_server heapdict            pure_eval           ujson\n",
      "aext_share_notebook heapq               pwd                 unicodedata\n",
      "aext_share_notebook_server hmac                py                  unidecode\n",
      "aext_shared         holoviews           py_compile          unittest\n",
      "aext_toolbox        html                pyarrow             urllib\n",
      "aiobotocore         http                pyasn1              urllib3\n",
      "aiohappyeyeballs    httpcore            pyasn1_modules      uuid\n",
      "aiohttp             httpx               pyclbr              venv\n",
      "aioitertools        hvplot              pycodestyle         w3lib\n",
      "aiosignal           hyperlink           pycosat             warnings\n",
      "alabaster           idlelib             pycparser           watchdog\n",
      "alembic             idna                pyct                wave\n",
      "altair              imageio             pycurl              wcwidth\n",
      "anaconda_anon_usage imagesize           pydantic            weakref\n",
      "anaconda_auth       imaplib             pydantic_core       webbrowser\n",
      "anaconda_catalogs   imblearn            pydantic_settings   webencodings\n",
      "anaconda_cli_base   importlib           pydispatch          websocket\n",
      "anaconda_cloud_auth importlib_metadata  pydoc               werkzeug\n",
      "anaconda_navigator  importlib_resources pydoc_data          whatthepatch\n",
      "anaconda_project    incremental         pydocstyle          wheel\n",
      "annotated_types     inflect             pyexpat             widgetsnbextension\n",
      "antigravity         inflection          pyflakes            wrapt\n",
      "anyio               iniconfig           pygments            wsgiref\n",
      "appdirs             inspect             pylab               wurlitzer\n",
      "archspec            intake              pylint              xarray\n",
      "argon2              intervaltree        pylint_venv         xdg\n",
      "argparse            io                  pyls_spyder         xml\n",
      "array               ipaddress           pylsp               xmlrpc\n",
      "arrow               ipykernel           pylsp_black         xxlimited\n",
      "ast                 ipykernel_launcher  pylsp_jsonrpc       xxlimited_35\n",
      "astroid             ipywidgets          pyodbc              xxsubtype\n",
      "astropy             isort               pyparsing           xyzservices\n",
      "astropy_iers_data   isympy              pytest              yaml\n",
      "asttokens           itemadapter         pythonjsonlogger    yapf\n",
      "async_lru           itemloaders         pytoolconfig        yapf_third_party\n",
      "asyncio             itertools           pytz                yapftests\n",
      "asyncssh            itsdangerous        pyuca               yarl\n",
      "atexit              jedi                pyviz_comms         zict\n",
      "atomicwrites        jeepney             pywt                zipapp\n",
      "attr                jellyfish           qdarkstyle          zipfile\n",
      "attrs               jinja2              qstylizer           zipimport\n",
      "autocommand         jinja2_time         qtawesome           zipp\n",
      "automat             jmespath            qtconsole           zlib\n",
      "autopep8            joblib              qtpy                zmq\n",
      "babel               json                queue               zoneinfo\n",
      "backports           json5               queuelib            zope\n",
      "base64              jsonpatch           quopri              zstandard\n",
      "bcrypt              jsonpointer         random              \n",
      "bdb                 jsonschema          re                  \n",
      "binaryornot         jsonschema_specifications readchar            \n",
      "\n",
      "Enter any module name to get more help.  Or, type \"modules spam\" to search\n",
      "for modules whose name or summary contain the string \"spam\".\n",
      "\n",
      "None\n"
     ]
    }
   ],
   "source": [
    "print (help('modules'))"
   ]
  },
  {
   "cell_type": "markdown",
   "metadata": {},
   "source": [
    "`pip` is a special package. It is used from the command line to install properly (e.g. matching the version of the local packages) new packages. It can also be used from within python to check i.e. the set installed packages and their versions. N.B.: only the installed packages on top of the default ones will be listed "
   ]
  },
  {
   "cell_type": "code",
   "execution_count": 3,
   "metadata": {},
   "outputs": [
    {
     "name": "stdout",
     "output_type": "stream",
     "text": [
      "['aext-assistant-server==4.20.0', 'aext-assistant==4.20.0', 'aext-core-server==4.20.0', 'aext-core==4.20.0', 'aext-environments-server==4.20.0', 'aext-panels-server==4.20.0', 'aext-panels==4.20.0', 'aext-project-filebrowser-server==4.20.0', 'aext-share-notebook-server==4.20.0', 'aext-share-notebook==4.20.0', 'aext-shared==4.20.0', 'aext-toolbox==4.20.0', 'aiobotocore==2.19.0', 'aiohappyeyeballs==2.4.4', 'aiohttp==3.11.10', 'aioitertools==0.7.1', 'aiosignal==1.2.0', 'alabaster==0.7.16', 'alembic==1.16.2', 'altair==5.5.0', 'anaconda-anon-usage==0.7.1', 'anaconda-auth==0.8.6', 'anaconda-catalogs==0.2.0', 'anaconda-cli-base==0.5.2', 'anaconda-client==1.13.0', 'anaconda-navigator==2.6.6', 'anaconda-project==0.11.1', 'annotated-types==0.6.0', 'anyio==4.7.0', 'appdirs==1.4.4', 'archspec==0.2.3', 'argon2-cffi-bindings==21.2.0', 'argon2-cffi==21.3.0', 'arrow==1.3.0', 'astroid==3.3.8', 'astropy-iers-data==0.2025.1.13.0.34.51', 'astropy==7.0.0', 'asttokens==3.0.0', 'async-lru==2.0.4', 'asyncssh==2.17.0', 'atomicwrites==1.4.0', 'attrs==24.3.0', 'autocommand==2.2.2', 'automat==24.8.1', 'autopep8==2.0.4', 'babel==2.16.0', 'backports.tarfile==1.2.0', 'bcrypt==4.3.0', 'beautifulsoup4==4.12.3', 'binaryornot==0.4.4', 'black==24.10.0', 'bleach==6.2.0', 'blinker==1.9.0', 'bokeh==3.6.2', 'boltons==24.1.0', 'botocore==1.36.3', 'bottleneck==1.4.2', 'brotli==1.0.9', 'cachetools==5.5.1', 'certifi==2025.10.5', 'cffi==1.17.1', 'chardet==4.0.0', 'charset-normalizer==3.3.2', 'click==8.1.8', 'cloudpickle==3.0.0', 'colorama==0.4.6', 'colorcet==3.1.0', 'comm==0.2.1', 'conda-anaconda-telemetry==0.1.2', 'conda-anaconda-tos==0.2.0', 'conda-build==25.5.0', 'conda-content-trust==0.2.0', 'conda-index==0.6.1', 'conda-libmamba-solver==25.4.0', 'conda-pack==0.7.1', 'conda-package-handling==2.4.0', 'conda-package-streaming==0.11.0', 'conda-repo-cli==1.0.165', 'conda-token==0.6.0', 'conda==25.5.1', 'constantly==23.10.4', 'contourpy==1.3.1', 'cookiecutter==1.7.3', 'cryptography==44.0.1', 'cssselect==1.2.0', 'cycler==0.11.0', 'cytoolz==1.0.1', 'dask-expr==2.0.0', 'dask==2025.2.0', 'datashader==0.18.0', 'debugpy==1.8.11', 'decorator==5.1.1', 'defusedxml==0.7.1', 'deprecated==1.2.13', 'diff-match-patch==20200713', 'dill==0.3.8', 'distributed==2025.2.0', 'distro==1.9.0', 'docstring-to-markdown==0.11', 'docutils==0.21.2', 'et-xmlfile==1.1.0', 'evalidate==2.0.3', 'executing==0.8.3', 'fastjsonschema==2.20.0', 'filelock==3.17.0', 'flake8==7.1.1', 'flask==3.1.0', 'fonttools==4.55.3', 'frozendict==2.4.2', 'frozenlist==1.5.0', 'fsspec==2025.3.2', 'gitdb==4.0.7', 'gitpython==3.1.43', 'gmpy2==2.2.1', 'greenlet==3.1.1', 'h11==0.16.0', 'h5py==3.12.1', 'heapdict==1.0.1', 'holoviews==1.20.2', 'httpcore==1.0.9', 'httpx==0.28.1', 'hvplot==0.11.3', 'hyperlink==21.0.0', 'idna==3.7', 'imageio==2.37.0', 'imagesize==1.4.1', 'imbalanced-learn==0.13.0', 'importlib-metadata==8.5.0', 'importlib-resources==6.4.0', 'incremental==24.7.2', 'inflect==7.3.1', 'inflection==0.5.1', 'iniconfig==1.1.1', 'intake==2.0.7', 'intervaltree==3.1.0', 'ipykernel==6.29.5', 'ipython==8.30.0', 'ipywidgets==8.1.5', 'isort==6.0.1', 'itemadapter==0.3.0', 'itemloaders==1.3.2', 'itsdangerous==2.2.0', 'jaraco.classes==3.2.1', 'jaraco.context==0.0.0', 'jaraco.functools==4.1.0', 'jaraco.text==3.12.1', 'jedi==0.19.2', 'jeepney==0.7.1', 'jellyfish==1.1.3', 'jinja2-time==0.2.0', 'jinja2==3.1.6', 'jmespath==1.0.1', 'joblib==1.4.2', 'json5==0.9.25', 'jsonpatch==1.33', 'jsonpointer==2.1', 'jsonschema-specifications==2023.7.1', 'jsonschema==4.23.0', 'jupyter-client==8.6.3', 'jupyter-console==6.6.3', 'jupyter-core==5.7.2', 'jupyter-events==0.12.0', 'jupyter-lsp==2.2.5', 'jupyter-server-terminals==0.5.3', 'jupyter-server==2.15.0', 'jupyter==1.1.1', 'jupyterlab-pygments==0.3.0', 'jupyterlab-server==2.27.3', 'jupyterlab-widgets==3.0.13', 'jupyterlab==4.3.4', 'keyring==25.6.0', 'kiwisolver==1.4.8', 'lazy-loader==0.4', 'lckr-jupyterlab-variableinspector==3.2.4', 'libarchive-c==5.1', 'libmambapy==2.0.5', 'lief==0.16.4', 'linkify-it-py==2.0.0', 'llvmlite==0.44.0', 'lmdb==1.6.2', 'locket==1.0.0', 'lxml==5.3.0', 'lz4==4.3.2', 'mako==1.2.3', 'markdown-it-py==2.2.0', 'markdown==3.8', 'markupsafe==3.0.2', 'matplotlib-inline==0.1.6', 'matplotlib==3.10.0', 'mccabe==0.7.0', 'mdit-py-plugins==0.3.0', 'mdurl==0.1.0', 'menuinst==2.2.0', 'mistune==3.1.2', 'mkl-fft==1.3.11', 'mkl-random==1.2.8', 'mkl-service==2.4.0', 'more-itertools==10.3.0', 'mpmath==1.3.0', 'msgpack==1.0.3', 'multidict==6.1.0', 'multipledispatch==0.6.0', 'mypy-extensions==1.0.0', 'mypy==1.14.1', 'narwhals==1.31.0', 'navigator-updater==0.5.1', 'nb-conda-kernels==2.5.2', 'nbclient==0.10.2', 'nbconvert==7.16.6', 'nbformat==5.10.4', 'nest-asyncio==1.6.0', 'networkx==3.4.2', 'nltk==3.9.1', 'notebook-shim==0.2.4', 'notebook==7.3.2', 'numba==0.61.0', 'numexpr==2.10.1', 'numpy==2.1.3', 'numpydoc==1.7.0', 'openpyxl==3.1.5', 'ordered-set==4.1.0', 'overrides==7.4.0', 'packaging==24.2', 'pandas==2.2.3', 'pandocfilters==1.5.0', 'panel==1.7.0', 'param==2.2.0', 'parsel==1.8.1', 'parso==0.8.4', 'partd==1.4.2', 'pathspec==0.10.3', 'patsy==1.0.1', 'pexpect==4.8.0', 'pickleshare==0.7.5', 'pillow==11.1.0', 'pip==25.1', 'pkce==1.0.3', 'pkginfo==1.12.0', 'platformdirs==4.3.7', 'plotly==5.24.1', 'pluggy==1.5.0', 'ply==3.11', 'poyo==0.5.0', 'prometheus-client==0.21.1', 'prompt-toolkit==3.0.43', 'propcache==0.3.1', 'protego==0.4.0', 'protobuf==5.29.3', 'psutil==5.9.0', 'ptyprocess==0.7.0', 'pure-eval==0.2.2', 'py-cpuinfo==9.0.0', 'pyarrow==19.0.0', 'pyasn1-modules==0.2.8', 'pyasn1==0.4.8', 'pycodestyle==2.12.1', 'pycosat==0.6.6', 'pycparser==2.21', 'pyct==0.5.0', 'pycurl==7.45.6', 'pydantic-core==2.27.1', 'pydantic-settings==2.6.1', 'pydantic==2.10.3', 'pydispatcher==2.0.5', 'pydocstyle==6.3.0', 'pyerfa==2.0.1.5', 'pyflakes==3.2.0', 'pygithub==2.4.0', 'pygments==2.19.1', 'pyjwt==2.10.1', 'pylint-venv==3.0.3', 'pylint==3.3.5', 'pyls-spyder==0.4.0', 'pynacl==1.5.0', 'pyodbc==5.2.0', 'pyopenssl==25.0.0', 'pyparsing==3.2.0', 'pyqt5-sip==12.13.0', 'pyqt5==5.15.10', 'pyqtwebengine==5.15.6', 'pysocks==1.7.1', 'pytest==8.3.4', 'python-dateutil==2.9.0.post0', 'python-dotenv==1.1.0', 'python-json-logger==3.2.1', 'python-lsp-black==2.0.0', 'python-lsp-jsonrpc==1.1.2', 'python-lsp-server==1.12.2', 'python-slugify==5.0.2', 'pytoolconfig==1.2.6', 'pytz==2024.1', 'pyuca==1.2', 'pyviz-comms==3.0.2', 'pywavelets==1.8.0', 'pyxdg==0.27', 'pyyaml==6.0.2', 'pyzmq==26.2.0', 'qdarkstyle==3.2.3', 'qstylizer==0.2.2', 'qtawesome==1.4.0', 'qtconsole==5.6.1', 'qtpy==2.4.1', 'queuelib==1.6.2', 'readchar==4.0.5', 'referencing==0.30.2', 'regex==2024.11.6', 'requests-file==2.1.0', 'requests-toolbelt==1.0.0', 'requests==2.32.3', 'rfc3339-validator==0.1.4', 'rfc3986-validator==0.1.1', 'rich==13.9.4', 'roman-numerals-py==3.1.0', 'rope==1.13.0', 'rpds-py==0.22.3', 'rtree==1.0.1', 'ruamel-yaml-conda==0.17.21', 'ruamel.yaml.clib==0.2.12', 'ruamel.yaml==0.18.10', 's3fs==2025.3.2', 'scikit-image==0.25.0', 'scikit-learn==1.6.1', 'scipy==1.15.3', 'scrapy==2.12.0', 'seaborn==0.13.2', 'secretstorage==3.3.1', 'semver==3.0.2', 'send2trash==1.8.2', 'sentry-sdk==2.18.0', 'service-identity==24.2.0', 'setuptools==72.1.0', 'shellingham==1.5.0', 'sip==6.7.12', 'six==1.17.0', 'sklearn-compat==0.1.3', 'smmap==4.0.0', 'sniffio==1.3.0', 'snowballstemmer==2.2.0', 'sortedcontainers==2.4.0', 'soupsieve==2.5', 'sphinx==8.2.3', 'sphinxcontrib-applehelp==2.0.0', 'sphinxcontrib-devhelp==2.0.0', 'sphinxcontrib-htmlhelp==2.1.0', 'sphinxcontrib-jsmath==1.0.1', 'sphinxcontrib-qthelp==2.0.0', 'sphinxcontrib-serializinghtml==2.0.0', 'spyder-kernels==3.0.5', 'spyder==6.0.7', 'sqlalchemy==2.0.39', 'stack-data==0.2.0', 'statsmodels==0.14.4', 'streamlit==1.45.1', 'superqt==0.7.3', 'sympy==1.13.3', 'tables==3.10.2', 'tabulate==0.9.0', 'tblib==3.1.0', 'tenacity==9.0.0', 'terminado==0.17.1', 'text-unidecode==1.3', 'textdistance==4.6.3', 'threadpoolctl==3.5.0', 'three-merge==0.1.1', 'tifffile==2025.2.18', 'tinycss2==1.4.0', 'tldextract==5.1.2', 'toml==0.10.2', 'tomli==2.0.1', 'tomlkit==0.13.2', 'toolz==1.0.0', 'tornado==6.5.1', 'tqdm==4.67.1', 'traitlets==5.14.3', 'truststore==0.10.0', 'twisted==24.11.0', 'typeguard==4.3.0', 'typer==0.9.0', 'typing-extensions==4.12.2', 'tzdata==2025.2', 'uc-micro-py==1.0.1', 'ujson==5.10.0', 'unidecode==1.3.8', 'urllib3==2.3.0', 'w3lib==1.21.0', 'watchdog==4.0.2', 'wcwidth==0.2.5', 'webencodings==0.5.1', 'websocket-client==1.8.0', 'werkzeug==3.1.3', 'whatthepatch==1.0.2', 'wheel==0.45.1', 'widgetsnbextension==4.0.13', 'wrapt==1.17.0', 'wurlitzer==3.0.2', 'xarray==2025.4.0', 'xyzservices==2022.9.0', 'yapf==0.40.2', 'yarl==1.18.0', 'zict==3.0.0', 'zipp==3.21.0', 'zope.interface==7.1.1', 'zstandard==0.23.0']\n"
     ]
    }
   ],
   "source": [
    "\"\"\"\"\"\n",
    "try:\n",
    "    # this doesn't work anymore\n",
    "    import pip\n",
    "    sorted([\"%s==%s\" % (i.key, i.version) for i in pip._internal.utils.misc.get_installed_distributions()])\n",
    "    print (\"within try\")\n",
    "\"\"\"\"\" \n",
    "# use this instead\n",
    "import pkg_resources\n",
    "installed_packages = pkg_resources.working_set\n",
    "installed_packages_list = sorted([\"%s==%s\" % (i.key, i.version)\n",
    "    for i in installed_packages])\n",
    "print(installed_packages_list)"
   ]
  },
  {
   "cell_type": "markdown",
   "metadata": {},
   "source": [
    "# Copies and Views\n",
    "\n",
    "#### Copies:\n",
    "* A **copy** creates a new object that is a duplicate of the original one.\n",
    "* Changes made to the copy do not affect the original object, and vice versa.\n",
    "* There are two types of copies:\n",
    "  * Shallow Copy: Only the top-level object is copied. If the original object contains references to other objects (e.g., a list of lists), the references are copied, not the objects themselves.\n",
    "  * Deep Copy: A complete copy is made, including all nested objects. Changes to any part of the deep copy won’t affect the original object."
   ]
  },
  {
   "cell_type": "code",
   "execution_count": 5,
   "metadata": {},
   "outputs": [
    {
     "name": "stdout",
     "output_type": "stream",
     "text": [
      "Original: [1, 2, [300, 4]]\n",
      "Shallow Copy: [100, 2, [300, 4]]\n"
     ]
    }
   ],
   "source": [
    "import copy\n",
    "#  - copy.copy() → crea una copia superficial (shallow copy)\n",
    "#  - copy.deepcopy() → crea una copia profunda (deep copy)\n",
    "\n",
    "original = [1, 2, [3, 4]]\n",
    "shallow_copy = copy.copy(original)\n",
    "# Copia solo el contenedor exterior (la lista principal), \n",
    "# pero no los objetos contenidos dentro (como la sublista [3,4]),\n",
    "# que siguen siendo referencias al mismo objeto en memoria.\n",
    "\n",
    "shallow_copy[0] = 100  # This won't affect the original.\n",
    "# Se cambia el primer elemento de la lista copia,\n",
    "# pero como es un entero (inmutable), solo se modifica en la copia.\n",
    "\n",
    "shallow_copy[2][0] = 300  # This will affect the original's nested list\n",
    "# Se modifica el primer elemento de la sublista [3,4].\n",
    "# PERO: como tanto 'original' como 'shallow_copy' comparten la MISMA sublista en memoria,\n",
    "# el cambio se refleja también en la lista original.\n",
    "\n",
    "print(\"Original:\", original)  \n",
    "print(\"Shallow Copy:\", shallow_copy) "
   ]
  },
  {
   "cell_type": "markdown",
   "metadata": {},
   "source": [
    "#### Views:\n",
    "* A view provides a reference to the original object without creating a new object.\n",
    "* Changes made through the view directly affect the original object because the view is simply another way of accessing the original data.\n",
    "* We will see in the next classes that NumPy arrays and Pandas DataFrames often deal with views when you slice or manipulate them.\n"
   ]
  },
  {
   "cell_type": "code",
   "execution_count": 7,
   "metadata": {},
   "outputs": [
    {
     "name": "stdout",
     "output_type": "stream",
     "text": [
      "Original array: [  1 100   3   4]\n",
      "View: [100   3]\n"
     ]
    }
   ],
   "source": [
    "import numpy as np\n",
    "\n",
    "arr = np.array([1, 2, 3, 4])\n",
    "view = arr[1:3]  # This creates a view, not a copy \n",
    "# Cuando se selecciona una parte del arreglo, NumPy crea una view, no una copia.\n",
    "# Esto significa que 'view' no tiene sus propios datos:\n",
    "# simplemente \"mira\" los mismos datos que 'arr' en memoria,\n",
    "# en las posiciones correspondientes a los índices 1 y 2 → [2, 3].\n",
    "\n",
    "view[0] = 100  # Modifies the original array\n",
    "# Al modificar 'view[0]', también se modifica el arreglo original 'arr',\n",
    "# porque ambos apuntan al MISMO bloque de memoria.\n",
    "\n",
    "print(\"Original array:\", arr)  \n",
    "print(\"View:\", view)  "
   ]
  },
  {
   "cell_type": "markdown",
   "metadata": {},
   "source": [
    "# Functions"
   ]
  },
  {
   "cell_type": "code",
   "execution_count": null,
   "metadata": {},
   "outputs": [],
   "source": [
    "def square(x):\n",
    "    \"\"\"Square of x.\"\"\"\n",
    "    return x*x\n",
    "\n",
    "def cube(x):\n",
    "    \"\"\"Cube of x.\"\"\"\n",
    "    return x*x*x\n",
    "\n",
    "# create a dictionary of functions\n",
    "funcs = {\n",
    "    'square': square,\n",
    "    'cube': cube,\n",
    "}\n",
    "\n",
    "#x = 3\n",
    "#print(square(x))\n",
    "#print(cube(x))\n",
    "\n",
    "for func in sorted(funcs):\n",
    "    print (func, funcs[func](x))\n",
    "    # sorted se usa para recorrer el diccionario en orden alfabético (de las claves?)"
   ]
  },
  {
   "cell_type": "markdown",
   "metadata": {},
   "source": [
    "## Functions arguments"
   ]
  },
  {
   "cell_type": "markdown",
   "metadata": {},
   "source": [
    "In Python, whether arguments passed to a function are treated as views or copies depends on the data type of the argument and how it is handled inside the function. Here's how Python handles various types of arguments:\n",
    "\n",
    "**Immutable Types** (e.g., integers, strings, tuples):\n",
    "* For immutable types like `int`, `str`, and `tuple`, when you pass them as arguments to a function, Python creates a copy of the reference to the object, not the object itself.\n",
    "* Since these objects cannot be modified, any attempt to change them inside the function results in the creation of a new object, leaving the original object unchanged."
   ]
  },
  {
   "cell_type": "code",
   "execution_count": 14,
   "metadata": {},
   "outputs": [
    {
     "name": "stdout",
     "output_type": "stream",
     "text": [
      "Inside function: 11\n",
      "Outside function: 10\n"
     ]
    }
   ],
   "source": [
    "def modify(x):\n",
    "    x += 1 # (ya habíamos visto esto) crea una nueva variable local 'x'; no modifica la original.\n",
    "    print(\"Inside function:\", x)\n",
    "\n",
    "x = 10\n",
    "modify(x)\n",
    "print(\"Outside function:\", x)\n",
    "\n",
    "# ¿?\n",
    "# Si en lugar de un entero usamos una estructura mutable (como una lista o un arreglo de NumPy)\n",
    "# el comportamiento es distinto: se modifica el contenido original dentro de la función."
   ]
  },
  {
   "cell_type": "markdown",
   "metadata": {},
   "source": [
    "**Mutable Types** (e.g., lists, dictionaries, sets):\n",
    "* For mutable types like `list`, `dict`, or `set`, Python passes a reference to the original object. This means that any modification made to the object inside the function will affect the original object outside the function, as they both reference the same object (this behaves like a view)."
   ]
  },
  {
   "cell_type": "code",
   "execution_count": 17,
   "metadata": {},
   "outputs": [
    {
     "name": "stdout",
     "output_type": "stream",
     "text": [
      "Inside function: [1, 2, 3, 4]\n",
      "Outside function: [1, 2, 3, 4]\n"
     ]
    }
   ],
   "source": [
    "def modify_list(lst):\n",
    "    lst.append(4) # Modifica la lista original (objeto mutable)\n",
    "    print(\"Inside function:\", lst)\n",
    "\n",
    "my_list = [1, 2, 3]\n",
    "modify_list(my_list)\n",
    "print(\"Outside function:\", my_list) # Imprime la lista MODIFICADA, aunque no esté siendo llamada por la función."
   ]
  },
  {
   "cell_type": "markdown",
   "metadata": {},
   "source": [
    "## Higher order functions\n",
    "\n",
    "A function that uses another function as an input argument or returns a function is known as a higher-order function (HOF). The most familiar examples are `map` and `filter`."
   ]
  },
  {
   "cell_type": "markdown",
   "metadata": {},
   "source": [
    "### map\n",
    "\n",
    "The map function applies a function to each member of a collection"
   ]
  },
  {
   "cell_type": "code",
   "execution_count": 20,
   "metadata": {},
   "outputs": [
    {
     "name": "stdout",
     "output_type": "stream",
     "text": [
      "[0, 1, 4, 9, 16]\n",
      "0\n",
      "1\n",
      "4\n",
      "9\n",
      "16\n"
     ]
    },
    {
     "data": {
      "text/plain": [
       "[0, 1, 4, 9, 16, 25]"
      ]
     },
     "execution_count": 20,
     "metadata": {},
     "output_type": "execute_result"
    }
   ],
   "source": [
    "x = list(map(square, range(5))) \n",
    "print (x)\n",
    "# map' aplica la función 'square' a cada elemento de 'range(5)'.\n",
    "# map() devuelve un iterador, no una lista, por eso se usa list().\n",
    "# sin embargo, es útil que no los guarde por defecto en una lista (porque no ocupa memoria?)\n",
    "\n",
    "# Note the difference w.r.t python 2. In python 3 map retuns an iterator so you can do stuff like:\n",
    "for i in map(square,range(5)): print(i)\n",
    "\n",
    "# or\n",
    "[i for i in map(square,range(6))]"
   ]
  },
  {
   "cell_type": "markdown",
   "metadata": {},
   "source": [
    "### filter\n",
    "\n",
    "The filter function applies a predicate to each member of a collection, retaining only those members where the predicate is True"
   ]
  },
  {
   "cell_type": "code",
   "execution_count": 23,
   "metadata": {},
   "outputs": [
    {
     "name": "stdout",
     "output_type": "stream",
     "text": [
      "[0, 2, 4]\n"
     ]
    }
   ],
   "source": [
    "def is_even(x):\n",
    "    return x%2 == 0\n",
    "\n",
    "print (list(filter(is_even, range(5))))\n",
    "# 'filter' aplica la función 'is_even' a cada elemento de range(5)\n",
    "# y devuelve solo los elementos para los cuales la función devuelve True.\n",
    "# To use it the function must be boolean!\n",
    "# En Python 3, filter() devuelve un iterador, por eso nuevamente usamos list() para ver los resultados."
   ]
  },
  {
   "cell_type": "markdown",
   "metadata": {},
   "source": [
    "Combinations in sequence of HOF are obviously possible"
   ]
  },
  {
   "cell_type": "code",
   "execution_count": 24,
   "metadata": {},
   "outputs": [
    {
     "data": {
      "text/plain": [
       "[0, 4, 16]"
      ]
     },
     "execution_count": 24,
     "metadata": {},
     "output_type": "execute_result"
    }
   ],
   "source": [
    "list(map(square, filter(is_even, range(5))))\n",
    "# 'map' aplica la función square a los elementos filtrados por 'filter'\n",
    "# primero se filtran los pares del 0 al 5\n",
    "# luego a los resultados del filtro se les aplica square\n",
    "# se genera una lista con los resultados"
   ]
  },
  {
   "cell_type": "markdown",
   "metadata": {},
   "source": [
    "### reduce\n",
    "\n",
    "The reduce function reduces a collection using a binary operator to combine items two at a time. More often than not reduce can be substituted with a more efficient for loop. It is worth mentioning it for its key role in big-data applications together with map (the map-reduce paradigm). \n",
    "N.B.: it no loger exist as built-in function in python 3, it is now part of the `functools` library"
   ]
  },
  {
   "cell_type": "code",
   "execution_count": 25,
   "metadata": {},
   "outputs": [
    {
     "data": {
      "text/plain": [
       "15"
      ]
     },
     "execution_count": 25,
     "metadata": {},
     "output_type": "execute_result"
    }
   ],
   "source": [
    "from functools import reduce\n",
    "\n",
    "def my_add(x, y):\n",
    "    return x + y\n",
    "\n",
    "# another implementation of the sum function\n",
    "reduce(my_add, [1,2,3,4,5]) \n",
    "# 'reduce' aplica 'my_add' de manera acumulativa a la lista [1,2,3,4,5] \n",
    "# por eso devuelve un solo valor (la suma total)\n",
    "\n",
    "# LOOK FOR ANOTHER EXAMPLES"
   ]
  },
  {
   "cell_type": "code",
   "execution_count": 30,
   "metadata": {},
   "outputs": [
    {
     "name": "stdout",
     "output_type": "stream",
     "text": [
      "8\n"
     ]
    }
   ],
   "source": [
    "numbers = [3, 7, 2, 8, 4]\n",
    "max_value = reduce(lambda a,b: a if a > b else b, numbers)\n",
    "print(max_value)  # debe ser 8\n",
    "\n",
    "# lambda a, b: a if a > b else b\n",
    "# Es equivalente a definir:\n",
    "# def f(a, b):\n",
    "#     if a > b:\n",
    "#         return a\n",
    "#     else:\n",
    "#         return b"
   ]
  },
  {
   "cell_type": "markdown",
   "metadata": {},
   "source": [
    "### zip\n",
    "\n",
    "zip is useful when you need to iterate over matched elements of multiple lists"
   ]
  },
  {
   "cell_type": "code",
   "execution_count": 34,
   "metadata": {},
   "outputs": [
    {
     "name": "stdout",
     "output_type": "stream",
     "text": [
      "1 10 a\n",
      "2 20 b\n",
      "3 30 c\n"
     ]
    }
   ],
   "source": [
    "xs = [1, 2, 3, 4]\n",
    "ys = [10, 20, 30, 40]\n",
    "zs = ['a', 'b', 'c',]\n",
    "\n",
    "for x, y, z in zip(xs, ys, zs): \n",
    "    print (x, y, z)\n",
    "\n",
    "# zip combina varias listas elemento a elemento.\n",
    "# La iteración se detiene cuando se agota la lista más corta (aquí 'zs' con 3 elementos)."
   ]
  },
  {
   "cell_type": "markdown",
   "metadata": {},
   "source": [
    "### Custom HOF"
   ]
  },
  {
   "cell_type": "code",
   "execution_count": 36,
   "metadata": {},
   "outputs": [
    {
     "name": "stdout",
     "output_type": "stream",
     "text": [
      "30\n",
      "100\n"
     ]
    }
   ],
   "source": [
    "def custom_sum(xs, transform):\n",
    "    \"\"\"Returns the sum of xs after a user specified transform.\"\"\"\n",
    "    return sum(map(transform, xs))\n",
    "    # 'map' aplica 'transform' a cada elemento de xs\n",
    "    # 'sum' suma todos los resultados\n",
    "    # OJO: 'transform' no es una función, es un parámetro que representa una función que tú pasas cuando llamas a custom_sum\n",
    "\n",
    "xs = range(5)\n",
    "print (custom_sum(xs, square))\n",
    "# xs = [0,1,2,3,4]\n",
    "# esto hace que square se le aplique a cada miembro de la lista y se sumen los resultados\n",
    "# 1 + 4 + 9 + 16 = 30\n",
    "print (custom_sum(xs, cube))\n",
    "# esto hace que cube se le aplique a cada miembro de la lista y se sumen los resultados\n",
    "# 1 + 8 + 27 + 64 = 100"
   ]
  },
  {
   "cell_type": "markdown",
   "metadata": {},
   "source": [
    "### Returning a function"
   ]
  },
  {
   "cell_type": "code",
   "execution_count": 58,
   "metadata": {},
   "outputs": [],
   "source": [
    "def make_logger(target):\n",
    "    # crea y devuelve un archivo txt?\n",
    "    # Dentro de make_logger, se define la función interna logger(data).\n",
    "    # Luego make_logger devuelve la función logger.\n",
    "    def logger(data):\n",
    "        # abre el archivo 'target' en modo 'a'\n",
    "        # 'a' significa append, es decir:\n",
    "            #Si el archivo ya existe, los datos que escribas se agregan al final, sin borrar lo que ya estaba.\n",
    "            #Si el archivo no existe, Python lo crea automáticamente.\n",
    "        with open(target, 'a') as f:\n",
    "            f.write(data + '\\n')  # Escribe la línea en el archivo\n",
    "    return logger \n",
    "\n",
    "foo_logger = make_logger('foo.txt')  # 'foo.txt' se crea si no existe\n",
    "# foo_logger es una función?\n",
    "type(foo_logger) # sí!\n",
    "# Ahora puedo escribir datos en el archivo usando mi función foo_logger\n",
    "foo_logger('Hello')\n",
    "foo_logger('World')"
   ]
  },
  {
   "cell_type": "code",
   "execution_count": 60,
   "metadata": {},
   "outputs": [
    {
     "name": "stdout",
     "output_type": "stream",
     "text": [
      "Hello\n",
      "World\n",
      "Hello\n",
      "World\n",
      "Hello\n",
      "World\n",
      "Hello\n",
      "World\n",
      "Hello\n",
      "World\n",
      "Hello\n",
      "World\n",
      "Hello\n",
      "World\n",
      "Hello\n",
      "World\n",
      "Hello\n",
      "World\n",
      "Hello\n",
      "World\n",
      "Hello\n",
      "World\n",
      "Hello\n",
      "World\n",
      "Hello\n",
      "World\n",
      "Hello\n",
      "World\n"
     ]
    }
   ],
   "source": [
    "# y lo puedo ver usando cat\n",
    "! cat 'foo.txt' # the cat ¿statement? prints as if it were executed on a terminal\n",
    "# cada vez que ejecuto se añaden más \"Hello \\n World\""
   ]
  },
  {
   "cell_type": "markdown",
   "metadata": {},
   "source": [
    "## Anonimous functions (lambda)\n",
    "\n",
    "When using functional style, there is often the need to create specific functions that perform a limited task as input to a HOF such as map or filter. In such cases, these functions are often written as anonymous or lambda functions. \n",
    "The syntax is as follows:\n",
    "\n",
    "lambda *arguments* : *expression*\n",
    "\n",
    "\n",
    "If you find it hard to understand what a lambda function is doing, it should probably be rewritten as a regular function."
   ]
  },
  {
   "cell_type": "code",
   "execution_count": 61,
   "metadata": {},
   "outputs": [
    {
     "data": {
      "text/plain": [
       "7"
      ]
     },
     "execution_count": 61,
     "metadata": {},
     "output_type": "execute_result"
    }
   ],
   "source": [
    "suml = lambda x,y: x+y  \n",
    "suml(3, 4)               \n",
    "suml(3,4)"
   ]
  },
  {
   "cell_type": "code",
   "execution_count": 62,
   "metadata": {},
   "outputs": [
    {
     "data": {
      "text/plain": [
       "7"
      ]
     },
     "execution_count": 62,
     "metadata": {},
     "output_type": "execute_result"
    }
   ],
   "source": [
    "(lambda x,y: x+y)(3,4)"
   ]
  },
  {
   "cell_type": "code",
   "execution_count": 63,
   "metadata": {},
   "outputs": [
    {
     "name": "stdout",
     "output_type": "stream",
     "text": [
      "0\n",
      "1\n",
      "4\n",
      "9\n",
      "16\n"
     ]
    }
   ],
   "source": [
    "for i in map(lambda x: x*x, range(5)): print (i)\n",
    "# está haciendo lo siguiente: 0x1=0, 1x1=1, 2x2=4, 3x3=9, 4x4=16"
   ]
  },
  {
   "cell_type": "code",
   "execution_count": 65,
   "metadata": {},
   "outputs": [
    {
     "name": "stdout",
     "output_type": "stream",
     "text": [
      "285\n"
     ]
    }
   ],
   "source": [
    "# what does this function do?\n",
    "from functools import reduce\n",
    "s1 = reduce(lambda x, y: x+y, map(lambda x: x**2, range(1,10)))\n",
    "print(s1)\n",
    "# está haciendo lo siguiente:\n",
    "# 1**2=1, 2**2=4, 3**2=9, 4**2=16, ... , 9**2=81\n",
    "# luego suma:  1 + 4 + 9 + 16 + ... + 81 = 285"
   ]
  },
  {
   "cell_type": "markdown",
   "metadata": {},
   "source": [
    "## Recursive functions "
   ]
  },
  {
   "cell_type": "code",
   "execution_count": 66,
   "metadata": {},
   "outputs": [
    {
     "name": "stdout",
     "output_type": "stream",
     "text": [
      "[1, 1, 2, 3, 5, 8, 13, 21, 34, 55]\n"
     ]
    }
   ],
   "source": [
    "def fib1(n):\n",
    "    \"\"\"Fib with recursion.\"\"\"\n",
    "\n",
    "    # base case\n",
    "    if n==0 or n==1:\n",
    "        return 1\n",
    "    # recursive case\n",
    "    else:\n",
    "        return fib1(n-1) + fib1(n-2)\n",
    "\n",
    "    \n",
    "print ([fib1(i) for i in range(10)])"
   ]
  },
  {
   "cell_type": "code",
   "execution_count": 67,
   "metadata": {},
   "outputs": [
    {
     "name": "stdout",
     "output_type": "stream",
     "text": [
      "[1, 1, 2, 3, 5, 8, 13, 21, 34, 55]\n"
     ]
    }
   ],
   "source": [
    "# In Python, a more efficient version that does not use recursion is\n",
    "\n",
    "def fib2(n):\n",
    "    \"\"\"Fib without recursion.\"\"\"\n",
    "    a, b = 0, 1\n",
    "    for i in range(1, n+1):\n",
    "        a, b = b, a+b\n",
    "    return b\n",
    "\n",
    "print ([fib2(i) for i in range(10)])"
   ]
  },
  {
   "cell_type": "code",
   "execution_count": 68,
   "metadata": {},
   "outputs": [
    {
     "name": "stdout",
     "output_type": "stream",
     "text": [
      "1.25 ms ± 33.4 μs per loop (mean ± std. dev. of 7 runs, 1,000 loops each)\n",
      "554 ns ± 18.4 ns per loop (mean ± std. dev. of 7 runs, 1,000,000 loops each)\n"
     ]
    }
   ],
   "source": [
    "# check indeed the timing:\n",
    "\n",
    "%timeit fib1(20)\n",
    "%timeit fib2(20)\n"
   ]
  },
  {
   "cell_type": "markdown",
   "metadata": {},
   "source": [
    "## Iterators\n",
    "\n",
    "Iterators represent streams of values. Because only one value is consumed at a time, they use very little memory. Use of iterators is very helpful for working with data sets too large to fit into RAM."
   ]
  },
  {
   "cell_type": "code",
   "execution_count": 75,
   "metadata": {},
   "outputs": [
    {
     "name": "stdout",
     "output_type": "stream",
     "text": [
      "1\n",
      "2\n",
      "3\n"
     ]
    }
   ],
   "source": [
    "# Iterators can be created from sequences with the built-in function iter()\n",
    "\n",
    "xs = [1,2,3]\n",
    "x_iter = iter(xs)\n",
    "# La función iter() convierte un iterable (como una lista) en un iterador.\n",
    "# Un iterador es un objeto que produce sus elementos uno por uno cuando se le pide.\n",
    "print (next(x_iter))\n",
    "print (next(x_iter))\n",
    "print (next(x_iter))\n",
    "#print (next(x_iter)) # esta da error porque no hay más elementos. "
   ]
  },
  {
   "cell_type": "code",
   "execution_count": 76,
   "metadata": {},
   "outputs": [
    {
     "name": "stdout",
     "output_type": "stream",
     "text": [
      "1\n",
      "2\n",
      "3\n"
     ]
    }
   ],
   "source": [
    "# Most commonly, iterators are used (automatically) within a for loop\n",
    "# which terminates when it encouters a StopIteration exception\n",
    "\n",
    "x_iter = iter(xs)\n",
    "for x in x_iter:\n",
    "    print (x)"
   ]
  },
  {
   "cell_type": "markdown",
   "metadata": {},
   "source": [
    "## More on comprehensions"
   ]
  },
  {
   "cell_type": "code",
   "execution_count": 78,
   "metadata": {},
   "outputs": [
    {
     "name": "stdout",
     "output_type": "stream",
     "text": [
      "<generator object <genexpr> at 0x7807c82b28c0>\n",
      "[0, 1, 4, 9, 16, 25, 36, 49, 64, 81]\n",
      "{0, 1, 2, 3, 4, 5, 6, 7, 8, 9}\n",
      "{'0': 0, '2': 4, '4': 16, '6': 36, '8': 64}\n"
     ]
    }
   ],
   "source": [
    "# A generator expression\n",
    "print ((x for x in range(10)))\n",
    "\n",
    "# A list comprehesnnion\n",
    "print ([x**2 for x in range(10)])\n",
    "\n",
    "# A set comprehension\n",
    "print ({x for x in range(10)})\n",
    "\n",
    "# A dictionary comprehension\n",
    "print ({str(x): x**2 for x in range(10) if x%2==0})"
   ]
  },
  {
   "cell_type": "markdown",
   "metadata": {},
   "source": [
    "## Useful Modules\n",
    "\n",
    "You may want to have a look at the content of the following modules for further usage of (HO) functions:\n",
    "  - [operator](https://docs.python.org/3/library/operator.html)\n",
    "  - [functools](https://docs.python.org/3/library/functools.html)\n",
    "  - [itertools](https://docs.python.org/3/library/itertools.html)\n",
    "  - [toolz](https://pypi.org/project/toolz/)\n",
    "  - [funcy](https://pypi.org/project/funcy/)"
   ]
  },
  {
   "cell_type": "markdown",
   "metadata": {},
   "source": [
    "## Decorators\n",
    "\n",
    "Decorators are a type of HOF that take a function and return a wrapped function that provides additional useful properties.\n",
    "\n",
    "Examples:\n",
    "\n",
    "  - logging\n",
    "  - profiling\n",
    "  - Just-In-Time (JIT) compilation"
   ]
  },
  {
   "cell_type": "code",
   "execution_count": 102,
   "metadata": {},
   "outputs": [
    {
     "name": "stdout",
     "output_type": "stream",
     "text": [
      "Something is happening before the function is called.\n",
      "Whee!\n",
      "Something is happening after the function is called.\n"
     ]
    }
   ],
   "source": [
    "# Un decorator es una función que toma otra función y la devuelve “modificada” o extendida.\n",
    "# permite añadir funcionalidad sin cambiar el código original de la función.\n",
    "\n",
    "def my_decorator(func): # va a tomar func y va a \"aplicar\" otra función llamada 'wrapper'\n",
    "    def wrapper(): # 'wrapper' \"envuelve\" el resultado de func con los sgtes strings\n",
    "        print(\"Something is happening before the function is called.\")\n",
    "        func()\n",
    "        print(\"Something is happening after the function is called.\")\n",
    "    return wrapper\n",
    "\n",
    "def say_whee():\n",
    "    print(\"Whee!\")\n",
    "\n",
    "say_whee = my_decorator(say_whee)\n",
    "say_whee()"
   ]
  },
  {
   "cell_type": "code",
   "execution_count": 104,
   "metadata": {},
   "outputs": [
    {
     "ename": "TypeError",
     "evalue": "my_decorator.<locals>.wrapper() takes 0 positional arguments but 2 were given",
     "output_type": "error",
     "traceback": [
      "\u001b[0;31m---------------------------------------------------------------------------\u001b[0m",
      "\u001b[0;31mTypeError\u001b[0m                                 Traceback (most recent call last)",
      "Cell \u001b[0;32mIn[104], line 16\u001b[0m\n\u001b[1;32m      6\u001b[0m \u001b[38;5;66;03m# ESTO NO FUNCIONA:\u001b[39;00m\n\u001b[1;32m      7\u001b[0m \u001b[38;5;66;03m#prueba = my_decorator(simple_sum(2,5))\u001b[39;00m\n\u001b[1;32m      8\u001b[0m \u001b[38;5;66;03m#prueba()\u001b[39;00m\n\u001b[0;32m   (...)\u001b[0m\n\u001b[1;32m     12\u001b[0m \u001b[38;5;66;03m# y luego llamar a la función decorada pasando los argumentos\u001b[39;00m\n\u001b[1;32m     13\u001b[0m \u001b[38;5;66;03m# es decir:\u001b[39;00m\n\u001b[1;32m     15\u001b[0m prueba \u001b[38;5;241m=\u001b[39m my_decorator(simple_sum)\n\u001b[0;32m---> 16\u001b[0m prueba(\u001b[38;5;241m2\u001b[39m,\u001b[38;5;241m5\u001b[39m)\n",
      "\u001b[0;31mTypeError\u001b[0m: my_decorator.<locals>.wrapper() takes 0 positional arguments but 2 were given"
     ]
    }
   ],
   "source": [
    "# Otro ejemplo:\n",
    "\n",
    "def simple_sum(x,y):\n",
    "    print(x+y)\n",
    "\n",
    "# ESTO NO FUNCIONA:\n",
    "#prueba = my_decorator(simple_sum(2,5))\n",
    "#prueba()\n",
    "\n",
    "# Para que funcione es necesario: \n",
    "# primero aplicar el decorador\n",
    "# y luego llamar a la función decorada pasando los argumentos\n",
    "# es decir:\n",
    "\n",
    "prueba = my_decorator(simple_sum)\n",
    "prueba(2,5)\n",
    "\n",
    "# TAMPOCO FUNCIONA \n",
    "# porque wrapper() no acepta ningún argumento.\n",
    "# Pero simple_sum(x, y) espera 2 argumentos"
   ]
  },
  {
   "cell_type": "markdown",
   "metadata": {},
   "source": [
    "Python allows you to use decorators in a simpler way with the @ symbol, sometimes called the “pie” syntax"
   ]
  },
  {
   "cell_type": "code",
   "execution_count": 105,
   "metadata": {},
   "outputs": [],
   "source": [
    "def my_decorator(func):\n",
    "    def wrapper():\n",
    "        print(\"Something is happening before the function is called.\")\n",
    "        func()\n",
    "        print(\"Something is happening after the function is called.\")\n",
    "    return wrapper\n",
    "\n",
    "@my_decorator\n",
    "def say_whee():\n",
    "    print(\"Whee!\")"
   ]
  },
  {
   "cell_type": "code",
   "execution_count": 106,
   "metadata": {},
   "outputs": [
    {
     "name": "stdout",
     "output_type": "stream",
     "text": [
      "Something is happening before the function is called.\n",
      "Whee!\n",
      "Something is happening after the function is called.\n"
     ]
    }
   ],
   "source": [
    "say_whee()"
   ]
  },
  {
   "cell_type": "markdown",
   "metadata": {},
   "source": [
    "#### JIT\n",
    "\n",
    "A JIT (Just-In-Time) compiler refers to a technique used to improve the performance of code execution by compiling code into machine code at runtime, rather than interpreting it line by line. This helps speed up program execution by reducing the overhead of repeatedly interpreting code.\n",
    "\n",
    "While the standard Python interpreter, CPython, does not include a JIT compiler, there are alternative Python implementations that provide JIT compilation, such as PyPy or [numba](https://numba.pydata.org).\n",
    "\n",
    "JIT combines both interpretation and compilation. It interprets code initially, and as it identifies sections of code that are executed repeatedly, it compiles them to machine code, optimizing performance dynamically.\n",
    "\n"
   ]
  },
  {
   "cell_type": "code",
   "execution_count": 108,
   "metadata": {},
   "outputs": [],
   "source": [
    "from numba import jit\n",
    "\n",
    "@jit(nopython=True)\n",
    "def fast_sum(arr):\n",
    "    total = 0.0  # check this\n",
    "    for i in arr:\n",
    "        total += i\n",
    "    return total"
   ]
  },
  {
   "cell_type": "code",
   "execution_count": 111,
   "metadata": {},
   "outputs": [
    {
     "name": "stdout",
     "output_type": "stream",
     "text": [
      "499999500000.0\n"
     ]
    }
   ],
   "source": [
    "#fast_sum(list(range(100)))\n",
    "#fast_sum([1,2,3,4,5])\n",
    "\n",
    "arr = np.arange(int(1e6), dtype=np.float64)\n",
    "print(fast_sum(arr))\n",
    "\n",
    "# is it really fast? Try to compare with my_add above"
   ]
  },
  {
   "cell_type": "code",
   "execution_count": 117,
   "metadata": {},
   "outputs": [
    {
     "name": "stdout",
     "output_type": "stream",
     "text": [
      "242 ns ± 3.84 ns per loop (mean ± std. dev. of 7 runs, 1,000,000 loops each)\n",
      "6.73 μs ± 82.5 ns per loop (mean ± std. dev. of 7 runs, 100,000 loops each)\n"
     ]
    }
   ],
   "source": [
    "# Comparación con my_add\n",
    "a = [1,2,3,4,5]\n",
    "\n",
    "%timeit reduce(my_add,a)\n",
    "%timeit fast_sum(a)"
   ]
  },
  {
   "cell_type": "markdown",
   "metadata": {},
   "source": [
    "# Classes and Objects\n",
    "\n",
    "Old school object-oriented programming is possible and often used in python. Classes are defined similarly to standard object-oriented languages, with similar functionalities.\n",
    "\n",
    "The main python doc [page](https://docs.python.org/3/tutorial/classes.html) is worth reading through "
   ]
  },
  {
   "cell_type": "code",
   "execution_count": null,
   "metadata": {},
   "outputs": [],
   "source": [
    "class Pet:\n",
    "    # the \"constructor\"\n",
    "    def __init__(self, name, age):  #inizialize the elements of the class\n",
    "        self.name=name\n",
    "        self.age=age\n",
    "    # class functions take the \"self\" parameter !!!\n",
    "    def set_name(self,name):\n",
    "        self.name=name\n",
    "    def convert_age(self,factor):\n",
    "        self.age*=factor\n",
    "\n",
    "buddy=Pet(\"buddy\",4)\n",
    "print (buddy.name, buddy.age)\n",
    "buddy.age=3\n",
    "print (buddy.convert_age(4))\n",
    "print (buddy.age)\n"
   ]
  },
  {
   "cell_type": "code",
   "execution_count": null,
   "metadata": {},
   "outputs": [],
   "source": [
    "# ineritance is straightforward\n",
    "class Dog(Pet):\n",
    "    # the following variables is \"global\", i.e. holds for all \"Dog\" objects\n",
    "    species = \"mammal\"\n",
    "    # functions can be redefined as usual\n",
    "    def convert_age(self):\n",
    "        self.age*=7\n",
    "    def set_species(self, species):\n",
    "        self.species = species\n",
    "        \n",
    "puppy=Dog(\"tobia\",10)\n",
    "print(puppy.name)\n",
    "puppy.convert_age()\n",
    "print(puppy.age)\n",
    "\n"
   ]
  },
  {
   "cell_type": "code",
   "execution_count": 42,
   "metadata": {},
   "outputs": [
    {
     "name": "stdout",
     "output_type": "stream",
     "text": [
      "499999500000.0\n"
     ]
    }
   ],
   "source": [
    "from numba import jit\n",
    "import numpy as np\n",
    "\n",
    "@jit(nopython=True)\n",
    "def fast_sum(arr):\n",
    "    total = 0.0  # float to match arr.dtype\n",
    "    for i in arr:\n",
    "        total += i\n",
    "    return total\n",
    "\n",
    "arr = np.arange(1_000_000, dtype=np.float64)\n",
    "print(fast_sum(arr))\n"
   ]
  },
  {
   "cell_type": "code",
   "execution_count": null,
   "metadata": {},
   "outputs": [],
   "source": []
  }
 ],
 "metadata": {
  "kernelspec": {
   "display_name": "Python [conda env:base] *",
   "language": "python",
   "name": "conda-base-py"
  },
  "language_info": {
   "codemirror_mode": {
    "name": "ipython",
    "version": 3
   },
   "file_extension": ".py",
   "mimetype": "text/x-python",
   "name": "python",
   "nbconvert_exporter": "python",
   "pygments_lexer": "ipython3",
   "version": "3.13.5"
  }
 },
 "nbformat": 4,
 "nbformat_minor": 4
}
