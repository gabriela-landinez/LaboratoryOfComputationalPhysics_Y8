{
 "cells": [
  {
   "cell_type": "markdown",
   "metadata": {},
   "source": [
    "Use markdowns to put \"fancy\" things like links, gifs, LaTEX formulas... \n",
    "Check online documentation on jupyter [here](http://nbviewer.jupyter.org/urls/bitbucket.org/ipre/calico/raw/master/notebooks/Documentation/Reference%20Guide/Reference%20Guide.ipynb)"
   ]
  },
  {
   "cell_type": "code",
   "execution_count": 5,
   "metadata": {},
   "outputs": [
    {
     "name": "stdout",
     "output_type": "stream",
     "text": [
      "this is python, programming is fun again\n"
     ]
    }
   ],
   "source": [
    "print(\"this is python, programming is fun again\")"
   ]
  },
  {
   "cell_type": "markdown",
   "metadata": {},
   "source": [
    "## Variables"
   ]
  },
  {
   "cell_type": "code",
   "execution_count": 6,
   "metadata": {},
   "outputs": [
    {
     "name": "stdout",
     "output_type": "stream",
     "text": [
      "2\n"
     ]
    },
    {
     "data": {
      "text/plain": [
       "int"
      ]
     },
     "execution_count": 6,
     "metadata": {},
     "output_type": "execute_result"
    }
   ],
   "source": [
    "# This b.t.w is a comment\n",
    "\n",
    "variable = 2\n",
    "# you can try with \"2\" or 2.1 to obtain string or float.\n",
    "\n",
    "print(variable)\n",
    "type(variable)"
   ]
  },
  {
   "cell_type": "markdown",
   "metadata": {},
   "source": [
    "the function `print` allows also more powerful way of outputting numbers:"
   ]
  },
  {
   "cell_type": "code",
   "execution_count": 7,
   "metadata": {},
   "outputs": [
    {
     "name": "stdout",
     "output_type": "stream",
     "text": [
      "Art:   453, Price per unit:     59.1\n"
     ]
    }
   ],
   "source": [
    "print(\"Art: %5d, Price per unit: %8.1f\"% (453, 59.058))\n",
    "\n",
    "# % indica que se insertarán valores en la cadena.\n",
    "# %5d → entero con ancho mínimo de 5 espacios (si el número tiene menos de 5 dígitos, se rellenan espacios en blanco a la izquierda).\n",
    "# %8.1f → flotante con ancho total de 8 y 1 decimal (ocupando 8 posiciones en total, 59.058 se muestra como 59.1)."
   ]
  },
  {
   "cell_type": "code",
   "execution_count": 10,
   "metadata": {},
   "outputs": [
    {
     "name": "stdout",
     "output_type": "stream",
     "text": [
      "5 1\n"
     ]
    },
    {
     "ename": "TypeError",
     "evalue": "unsupported operand type(s) for +: 'int' and 'str'",
     "output_type": "error",
     "traceback": [
      "\u001b[0;31m---------------------------------------------------------------------------\u001b[0m",
      "\u001b[0;31mTypeError\u001b[0m                                 Traceback (most recent call last)",
      "Cell \u001b[0;32mIn[10], line 3\u001b[0m\n\u001b[1;32m      1\u001b[0m a, b \u001b[38;5;241m=\u001b[39m \u001b[38;5;241m5\u001b[39m, \u001b[38;5;124m\"\u001b[39m\u001b[38;5;124m1\u001b[39m\u001b[38;5;124m\"\u001b[39m \u001b[38;5;66;03m# a python trick to assign values to more than one variable\u001b[39;00m\n\u001b[1;32m      2\u001b[0m \u001b[38;5;28mprint\u001b[39m(a,b)\n\u001b[0;32m----> 3\u001b[0m a\u001b[38;5;241m+\u001b[39mb\n",
      "\u001b[0;31mTypeError\u001b[0m: unsupported operand type(s) for +: 'int' and 'str'"
     ]
    }
   ],
   "source": [
    "a, b = 5, \"1\" # a python trick to assign values to more than one variable\n",
    "print(a,b)\n",
    "a+b\n",
    "# we can do a + int(b) to fix it"
   ]
  },
  {
   "cell_type": "markdown",
   "metadata": {},
   "source": [
    "try to sum a and b; if it doesn't work, cast one of the two and repeat"
   ]
  },
  {
   "cell_type": "code",
   "execution_count": 11,
   "metadata": {},
   "outputs": [
    {
     "name": "stdout",
     "output_type": "stream",
     "text": [
      "7 7 7\n"
     ]
    }
   ],
   "source": [
    "x = y = z = 7 # multiple assignment\n",
    "print(x, y, z)"
   ]
  },
  {
   "cell_type": "code",
   "execution_count": 12,
   "metadata": {},
   "outputs": [],
   "source": [
    "y=5"
   ]
  },
  {
   "cell_type": "code",
   "execution_count": 13,
   "metadata": {},
   "outputs": [
    {
     "name": "stdout",
     "output_type": "stream",
     "text": [
      "7 5 7\n"
     ]
    }
   ],
   "source": [
    "print(x, y, z)"
   ]
  },
  {
   "cell_type": "markdown",
   "metadata": {},
   "source": [
    "what if you reassign one of the three (say $y$)?"
   ]
  },
  {
   "cell_type": "code",
   "execution_count": 14,
   "metadata": {},
   "outputs": [
    {
     "name": "stdin",
     "output_type": "stream",
     "text": [
      "set the value of x 5\n"
     ]
    },
    {
     "name": "stdout",
     "output_type": "stream",
     "text": [
      "5\n"
     ]
    }
   ],
   "source": [
    "# can set values from command line as well (rarely used)\n",
    "x = input(\"set the value of x\")\n",
    "print(x)"
   ]
  },
  {
   "cell_type": "markdown",
   "metadata": {},
   "source": [
    "### Pointers in Python? \n",
    "\n",
    "\n",
    "Pointers are widely used in C and C++. Essentially, they are variables that hold the memory address of another variable.  Are there pointers in python? Essentially no.\n",
    "Pointers go against the [Zen of Python](https://www.python.org/dev/peps/pep-0020/#id3):\n",
    "\n",
    "*Pointers encourage implicit changes rather than explicit. Often, they are complex instead of simple, especially for beginners. Even worse, they beg for ways to shoot yourself in the foot, or do something really dangerous like read from a section of memory you were not supposed to. Python tends to try to abstract away implementation details like memory addresses from its users. Python often focuses on usability instead of speed. As a result, pointers in Python doesn’t really make sense.*\n",
    "\n",
    "\n",
    "It's all about two basics python concepts:\n",
    "1. Mutable vs Immutable objects\n",
    "2. Variable/Name in python\n",
    "\n",
    "Mutable objects can be changed, immutable cannot. I.e. when a new value is assigned to a given immutable \"variable\", a new object is in reality created. This as \"variable\" in python are actually just names bound to objects (PyObject).\n",
    "\n",
    "For more details about all this refer e.g. to [this review](https://realpython.com/pointers-in-python/)\n",
    "\n",
    "<span style=\"color:red\">PENDIENTE LEER</span>"
   ]
  },
  {
   "cell_type": "markdown",
   "metadata": {},
   "source": [
    "## Operators\n",
    "the usual stuff.."
   ]
  },
  {
   "cell_type": "code",
   "execution_count": 20,
   "metadata": {},
   "outputs": [
    {
     "name": "stdout",
     "output_type": "stream",
     "text": [
      "0.75\n",
      "0.75\n",
      "3\n",
      "0\n",
      "81\n",
      "81\n",
      "<class 'int'>\n",
      "<class 'float'>\n"
     ]
    }
   ],
   "source": [
    "# División normal: devuelve un número flotante\n",
    "print(3 / 4)       # 0.75\n",
    "\n",
    "# División entre flotantes: mismo resultado\n",
    "print(3.0 / 4.0)   # 0.75\n",
    "\n",
    "# Módulo: devuelve el residuo de la división\n",
    "print(3 % 4)       # 3\n",
    "\n",
    "# División entera: devuelve solo la parte entera (sin decimales)\n",
    "print(3 // 4)      # 0\n",
    "\n",
    "# Potenciación: 3 elevado a la 4\n",
    "print(3**4)        # 81\n",
    "\n",
    "# Otra forma de calcular potencias con la función pow()\n",
    "print(pow(3, 4))   # 81\n",
    "\n",
    "# Declaración de variables enteras y flotantes\n",
    "x = 1\n",
    "print(type(x))     # <class 'int'>\n",
    "\n",
    "y = 1.0\n",
    "print(type(y))     # <class 'float'>\n",
    "\n",
    "# Conversión de tipos (comentado, pero se puede usar para probar)\n",
    "# a, b = int(3), int(4)\n",
    "# print(a / b)                  # 0.75\n",
    "# print(float(a) / float(b))    # 0.75"
   ]
  },
  {
   "cell_type": "markdown",
   "metadata": {},
   "source": [
    "## Iterators\n",
    "very similar to all other languages. Start exploring the `range` and `enumerate` functions"
   ]
  },
  {
   "cell_type": "code",
   "execution_count": 27,
   "metadata": {},
   "outputs": [
    {
     "name": "stdout",
     "output_type": "stream",
     "text": [
      "1\n",
      "2\n",
      "3\n",
      "4\n",
      "5\n",
      "6\n",
      "7\n",
      "8\n",
      "9\n"
     ]
    }
   ],
   "source": [
    "for i in [1,2,3,4,5,6,7,8,9]: \n",
    "    print (i)"
   ]
  },
  {
   "cell_type": "code",
   "execution_count": 25,
   "metadata": {},
   "outputs": [
    {
     "name": "stdout",
     "output_type": "stream",
     "text": [
      "1\n",
      "2\n",
      "3\n",
      "4\n",
      "5\n",
      "6\n",
      "7\n",
      "8\n",
      "9\n"
     ]
    }
   ],
   "source": [
    "i = 1\n",
    "while i < 10:\n",
    "    print(i)\n",
    "    i+=1"
   ]
  },
  {
   "cell_type": "code",
   "execution_count": 22,
   "metadata": {},
   "outputs": [
    {
     "name": "stdout",
     "output_type": "stream",
     "text": [
      "0 a\n",
      "1 b\n",
      "2 c\n"
     ]
    }
   ],
   "source": [
    "for i, j in enumerate([\"a\",\"b\",\"c\"]): print(i,j)\n",
    "# Recorre una lista con enumerate, que devuelve el índice (i) y el valor (j)\n",
    "# i toma los valores 0, 1, 2\n",
    "# j toma los valores \"a\", \"b\", \"c\"\n",
    "# En cada iteración imprime ambos"
   ]
  },
  {
   "cell_type": "code",
   "execution_count": 30,
   "metadata": {},
   "outputs": [
    {
     "name": "stdout",
     "output_type": "stream",
     "text": [
      "(0, 'a')\n",
      "(1, 'b')\n",
      "(2, 'c')\n"
     ]
    }
   ],
   "source": [
    "# La celda anterior funciona porque enumerate() toma la lista [\"a\", \"b\", \"c\"] y la convierte internamente en pares\n",
    "# Entonces, en cada vuelta del for:\n",
    "# i recibe el primer valor del par → el índice (0, 1, 2)\n",
    "# j recibe el segundo valor del par → el elemento (\"a\", \"b\", \"c\")\n",
    "\n",
    "list=[\"a\", \"b\", \"c\"]\n",
    "for result in enumerate(list):\n",
    "    print (result)"
   ]
  },
  {
   "cell_type": "markdown",
   "metadata": {},
   "source": [
    "## Conditional Statements\n",
    "Mind the indentation! "
   ]
  },
  {
   "cell_type": "code",
   "execution_count": 31,
   "metadata": {},
   "outputs": [
    {
     "name": "stdout",
     "output_type": "stream",
     "text": [
      "of course\n",
      "else\n"
     ]
    }
   ],
   "source": [
    "a = 20\n",
    "if a >= 22: \n",
    "    print(\"if\")\n",
    "    if a==3: \n",
    "        print(3)\n",
    "    elif a >= 21:\n",
    "        print(\"elif\")\n",
    "else:\n",
    "    if 7>5: print (\"of course\")\n",
    "    print(\"else\")"
   ]
  },
  {
   "cell_type": "markdown",
   "metadata": {},
   "source": [
    "try/except: a very important and powerful type of conditional expression, use it and use it with care "
   ]
  },
  {
   "cell_type": "code",
   "execution_count": 32,
   "metadata": {},
   "outputs": [
    {
     "name": "stdout",
     "output_type": "stream",
     "text": [
      "1  is not a number\n"
     ]
    }
   ],
   "source": [
    "a = \"1\"\n",
    "try:\n",
    "    b = a + 2\n",
    "    print (b)\n",
    "except:\n",
    "    print(a, \" is not a number\")"
   ]
  },
  {
   "cell_type": "code",
   "execution_count": 33,
   "metadata": {},
   "outputs": [
    {
     "ename": "NameError",
     "evalue": "name 'my_function' is not defined",
     "output_type": "error",
     "traceback": [
      "\u001b[0;31m---------------------------------------------------------------------------\u001b[0m",
      "\u001b[0;31mNameError\u001b[0m                                 Traceback (most recent call last)",
      "Cell \u001b[0;32mIn[33], line 1\u001b[0m\n\u001b[0;32m----> 1\u001b[0m my_function(\u001b[38;5;241m10\u001b[39m)\n",
      "\u001b[0;31mNameError\u001b[0m: name 'my_function' is not defined"
     ]
    }
   ],
   "source": [
    "my_function(10)"
   ]
  },
  {
   "cell_type": "markdown",
   "metadata": {},
   "source": [
    "# Functions"
   ]
  },
  {
   "cell_type": "code",
   "execution_count": 34,
   "metadata": {},
   "outputs": [
    {
     "data": {
      "text/plain": [
       "5"
      ]
     },
     "execution_count": 34,
     "metadata": {},
     "output_type": "execute_result"
    }
   ],
   "source": [
    "def my_function(a, b = 2):\n",
    "    result = a + 2 * b\n",
    "    return result\n",
    "\n",
    "my_function(1)"
   ]
  },
  {
   "cell_type": "markdown",
   "metadata": {},
   "source": [
    "Notice that the function does not specify the types of the arguments, like you would see in statically typed languages. This is both useful and dangerous. Use the try/except construction to make it safe"
   ]
  },
  {
   "cell_type": "markdown",
   "metadata": {},
   "source": [
    "function can edit \"global\" variables as well, i.e. variables that are declared outside the function scope. To do so the statement ```global``` is used"
   ]
  },
  {
   "cell_type": "code",
   "execution_count": 35,
   "metadata": {},
   "outputs": [
    {
     "name": "stdout",
     "output_type": "stream",
     "text": [
      "Python is fantastic\n",
      "Python is awesome\n"
     ]
    }
   ],
   "source": [
    "# Variable global: esta \"vive\" fuera de la función.\n",
    "# Su valor no cambia incluso después de redefinir una variable con el mismo nombre dentro de la función.\n",
    "x = \"awesome\"\n",
    "\n",
    "def myfunc():\n",
    "    # Variable local: esta \"vive\" solo dentro de la función.\n",
    "    # No afecta la variable global con el mismo nombre.\n",
    "    x = \"fantastic\"\n",
    "    print(\"Python is \" + x)   # Imprime el valor local (\"fantastic\")\n",
    "\n",
    "myfunc()\n",
    "\n",
    "print(\"Python is \" + x)       # Imprime el valor global (\"awesome\")"
   ]
  },
  {
   "cell_type": "code",
   "execution_count": 39,
   "metadata": {},
   "outputs": [
    {
     "name": "stdout",
     "output_type": "stream",
     "text": [
      "Python is fantastic\n"
     ]
    }
   ],
   "source": [
    "x = \"awesome\"\n",
    "\n",
    "def myfunc():\n",
    "    # el stament 'global' permite modificar la variable global 'x'\n",
    "    # en lugar de crear una nueva variable local con el mismo nombre.\n",
    "    global x\n",
    "    x = \"fantastic\"  # Se cambia el valor de la variable global\n",
    "\n",
    "myfunc()\n",
    "\n",
    "# Al imprimir, se usa el nuevo valor global modificado dentro de la función.\n",
    "print(\"Python is \" + x)  # Resultado: \"Python is fantastic\""
   ]
  },
  {
   "cell_type": "markdown",
   "metadata": {},
   "source": [
    "# Lists, Tuples, Dictionaries"
   ]
  },
  {
   "cell_type": "markdown",
   "metadata": {},
   "source": [
    "## Lists\n",
    "Lists are exactly as the name implies. They are lists of objects. The objects can be any data type (including lists), and it is allowed to mix data types. In this way they are much more flexible than arrays. It is possible to append, delete, insert and count elements and to sort, reverse, etc. the list."
   ]
  },
  {
   "cell_type": "code",
   "execution_count": 40,
   "metadata": {},
   "outputs": [
    {
     "name": "stdout",
     "output_type": "stream",
     "text": [
      "['A', 'B', 'F', 'G', 'd', 'x', 'c', [1, 2, 3, 'this is a string', 5.3], 3]\n"
     ]
    }
   ],
   "source": [
    "a_list = [1, 2, 3, \"this is a string\", 5.3]\n",
    "b_list = [\"A\", \"B\", \"F\", \"G\", \"d\", \"x\", \"c\", a_list, 3]\n",
    "print(b_list)"
   ]
  },
  {
   "cell_type": "markdown",
   "metadata": {},
   "source": [
    "Manipulations of list is rather intuitive:\n",
    "\n",
    "`list[start:stop:step]`"
   ]
  },
  {
   "cell_type": "code",
   "execution_count": 68,
   "metadata": {},
   "outputs": [
    {
     "name": "stdout",
     "output_type": "stream",
     "text": [
      "7\n",
      "10\n",
      "[5, 3]\n",
      "[7, 5, 3]\n",
      "[4, 10]\n",
      "[3, 4, 10]\n",
      "[4, 10]\n",
      "[5, 10]\n"
     ]
    }
   ],
   "source": [
    "a = [7, 5, 3, 4, 10]\n",
    "\n",
    "print(a[0])     # Imprime el primer elemento → 7\n",
    "print(a[-1])    # Imprime el último elemento → 10\n",
    "print(a[1:3])   # Imprime desde el índice 1 hasta el 2 (excluye el tercero) → [5, 3]\n",
    "print(a[:3])    # Imprime desde el inicio hasta el índice 2 → [7, 5, 3] (siempre excluye el último?)\n",
    "print(a[3:])    # Imprime desde el índice 3 hasta el final → [4, 10]\n",
    "print(a[-3:])   # Imprime los tres últimos elementos → [3, 4, 10]\n",
    "print(a[3:len(a)]) # Imprime desde el índice 3 hasta el final (usa len) → [4, 10]\n",
    "print(a[1::3])  # Imprime elementos desde el índice 1, saltando de 3 en 3 → [5, 10]"
   ]
  },
  {
   "cell_type": "markdown",
   "metadata": {},
   "source": [
    "Operations on lists are also straightforward. Note that some of them do not modify the list permanently."
   ]
  },
  {
   "cell_type": "code",
   "execution_count": 69,
   "metadata": {},
   "outputs": [
    {
     "data": {
      "text/plain": [
       "[7, 5, 3, 4, 10]"
      ]
     },
     "execution_count": 69,
     "metadata": {},
     "output_type": "execute_result"
    }
   ],
   "source": [
    "a"
   ]
  },
  {
   "cell_type": "code",
   "execution_count": 70,
   "metadata": {
    "scrolled": true
   },
   "outputs": [
    {
     "name": "stdout",
     "output_type": "stream",
     "text": [
      "[0, 7, 5, 3, 4, 10]\n",
      "[0, 7, 5, 3, 4, 10, 8]\n",
      "[8, 10, 4, 3, 5, 7, 0]\n",
      "[0, 3, 4, 5, 7, 8, 10]\n",
      "[0, 3, 4, 5, 7, 8]\n",
      "[0, 4, 5, 7, 8]\n",
      "[0, 4, 5, 7]\n"
     ]
    }
   ],
   "source": [
    "a.insert(0, 0)   # Inserta el valor 0 en la posición 0 (al inicio de la lista)\n",
    "print(a)\n",
    "\n",
    "a.append(8)      # Agrega el valor 8 al final de la lista\n",
    "print(a)\n",
    "\n",
    "a.reverse()      # Invierte el orden de los elementos en la lista\n",
    "print(a)\n",
    "\n",
    "a.sort()         # Ordena la lista en orden ascendente\n",
    "print(a)\n",
    "\n",
    "a.pop()          # Elimina el último elemento de la lista\n",
    "print(a)\n",
    "\n",
    "a.remove(3)      # Elimina la primera aparición del valor 3 en la lista\n",
    "print(a)\n",
    "\n",
    "a.remove(a[4])   # Elimina el elemento que está actualmente en la posición 4\n",
    "print(a)"
   ]
  },
  {
   "cell_type": "markdown",
   "metadata": {},
   "source": [
    "Very fancy operations are possibile (known as list [comprehensions](https://docs.python.org/2/tutorial/datastructures.html?highlight=comprehensions))"
   ]
  },
  {
   "cell_type": "code",
   "execution_count": 71,
   "metadata": {},
   "outputs": [
    {
     "name": "stdout",
     "output_type": "stream",
     "text": [
      "[0, 4, 16, 36, 64, 100, 144, 196, 256, 324]\n"
     ]
    }
   ],
   "source": [
    "even_numbers = [x**2 for x in range(20) if x % 2 == 0]\n",
    "print(even_numbers)"
   ]
  },
  {
   "cell_type": "markdown",
   "metadata": {},
   "source": [
    "strings are lists and feature all operations permitted on lists, comprehensions as well"
   ]
  },
  {
   "cell_type": "code",
   "execution_count": 72,
   "metadata": {},
   "outputs": [
    {
     "name": "stdout",
     "output_type": "stream",
     "text": [
      "['I', 't', ' ', 'w', 'a', 's', ' ', 'a', ' ', 'd', 'a', 'r', 'k', ' ', 'a', 'n', 'd', ' ', 's', 't', 'o', 'r', 'm', 'y', ' ', 'n', 'i', 'g', 'h', 't', '.']\n"
     ]
    }
   ],
   "source": [
    "# Strings are lists!\n",
    "first_sentence = \"It was a dark and stormy night.\"\n",
    "characters = [x for x in first_sentence]\n",
    "print(characters)"
   ]
  },
  {
   "cell_type": "markdown",
   "metadata": {},
   "source": [
    "the opposite is also possible, but in a different way:"
   ]
  },
  {
   "cell_type": "code",
   "execution_count": 73,
   "metadata": {},
   "outputs": [
    {
     "name": "stdout",
     "output_type": "stream",
     "text": [
      "It was a dark and stormy night.\n"
     ]
    }
   ],
   "source": [
    "second_sentence = ''.join(characters)\n",
    "print(second_sentence)"
   ]
  },
  {
   "cell_type": "markdown",
   "metadata": {},
   "source": [
    "### Strings and String Handling\n",
    "One of the most important features of Python is its powerful and easy handling of strings. Defining strings is simple enough in most languages. But in Python, it is easy to search and replace, convert cases, concatenate, or access elements. We’ll discuss a few of these here. For a complete list, see this [tutorial]( http://www.tutorialspoint.com/python/python_strings.htm)"
   ]
  },
  {
   "cell_type": "code",
   "execution_count": 74,
   "metadata": {},
   "outputs": [
    {
     "name": "stdout",
     "output_type": "stream",
     "text": [
      "A string of characters, with newline \n",
      " CAPITALS, etc.\n",
      "A string of characters, with newline \n",
      " CAPITALS, etc.\n",
      " We can format strings for printing 5.00\n"
     ]
    }
   ],
   "source": [
    "a = \"A string of characters, with newline \\n CAPITALS, etc.\"\n",
    "print(a)\n",
    "\n",
    "b = 5.0\n",
    "newstring = a + \"\\n We can format strings for printing %.2f\"\n",
    "print(newstring % b)"
   ]
  },
  {
   "cell_type": "markdown",
   "metadata": {},
   "source": [
    "Operations are easy (remember strings are lists!)"
   ]
  },
  {
   "cell_type": "code",
   "execution_count": 77,
   "metadata": {},
   "outputs": [
    {
     "name": "stdout",
     "output_type": "stream",
     "text": [
      "BC D\n",
      "ABC D\n"
     ]
    }
   ],
   "source": [
    "a = \"ABC DEFG\"    # Cadena de texto con un espacio\n",
    "print(a[1:5])     # Imprime desde el índice 1 hasta el 4\n",
    "print(a[0:5])     # Imprime desde el índice 0 hasta el 4 \n",
    "\n",
    "# El espacio cuenta como un carácter más, por lo que también se incluye en el slicing."
   ]
  },
  {
   "cell_type": "code",
   "execution_count": 83,
   "metadata": {},
   "outputs": [
    {
     "name": "stdout",
     "output_type": "stream",
     "text": [
      "abc defg\n",
      "ABC DEFG\n",
      "4\n",
      "ABC afg\n",
      "ABC defg\n",
      "ABC aaag\n",
      "ABC cccg\n"
     ]
    },
    {
     "data": {
      "text/plain": [
       "3"
      ]
     },
     "execution_count": 83,
     "metadata": {},
     "output_type": "execute_result"
    }
   ],
   "source": [
    "a = \"ABC defg\"\n",
    "print(a.lower())\n",
    "print(a.upper())\n",
    "print(a.find('d'))\n",
    "\n",
    "print(a.replace('de', 'a')) # Reemplaza \"de\" por \"a\" → \"ABC afg\"\n",
    "print(a) # Muestra la cadena original (no cambia, strings son inmutables)\n",
    "\n",
    "b = a.replace('def', 'aaa')\n",
    "print(b)\n",
    "\n",
    "b = b.replace('a', 'c')\n",
    "print(b)\n",
    "b.count('c')"
   ]
  },
  {
   "cell_type": "code",
   "execution_count": 84,
   "metadata": {},
   "outputs": [
    {
     "name": "stdout",
     "output_type": "stream",
     "text": [
      "abc defg\n"
     ]
    }
   ],
   "source": [
    "print(\"ABC defg\".lower())"
   ]
  },
  {
   "cell_type": "markdown",
   "metadata": {},
   "source": [
    "## Tuples\n",
    "Tuples are like lists with one very important difference. Tuples are not changeable."
   ]
  },
  {
   "cell_type": "code",
   "execution_count": 85,
   "metadata": {},
   "outputs": [
    {
     "name": "stdout",
     "output_type": "stream",
     "text": [
      "(1, 2, 3, 4)\n"
     ]
    },
    {
     "ename": "TypeError",
     "evalue": "'tuple' object does not support item assignment",
     "output_type": "error",
     "traceback": [
      "\u001b[0;31m---------------------------------------------------------------------------\u001b[0m",
      "\u001b[0;31mTypeError\u001b[0m                                 Traceback (most recent call last)",
      "Cell \u001b[0;32mIn[85], line 3\u001b[0m\n\u001b[1;32m      1\u001b[0m a \u001b[38;5;241m=\u001b[39m (\u001b[38;5;241m1\u001b[39m, \u001b[38;5;241m2\u001b[39m, \u001b[38;5;241m3\u001b[39m, \u001b[38;5;241m4\u001b[39m)\n\u001b[1;32m      2\u001b[0m \u001b[38;5;28mprint\u001b[39m(a)\n\u001b[0;32m----> 3\u001b[0m a[\u001b[38;5;241m1\u001b[39m] \u001b[38;5;241m=\u001b[39m \u001b[38;5;241m2\u001b[39m\n",
      "\u001b[0;31mTypeError\u001b[0m: 'tuple' object does not support item assignment"
     ]
    }
   ],
   "source": [
    "a = (1, 2, 3, 4)\n",
    "print(a)\n",
    "a[1] = 2"
   ]
  },
  {
   "cell_type": "markdown",
   "metadata": {},
   "source": [
    "## Dictionaries\n",
    "Dictionaries are of paramount importance and a major asset of python.\n",
    "They are unordered, keyed lists. Lists are ordered, and the index may be viewed as a key."
   ]
  },
  {
   "cell_type": "code",
   "execution_count": 90,
   "metadata": {},
   "outputs": [
    {
     "name": "stdout",
     "output_type": "stream",
     "text": [
      "A\n",
      "['a,bc']\n",
      "C\n"
     ]
    }
   ],
   "source": [
    "# Diccionario: colección de pares clave:valor.\n",
    "# Las claves pueden ser de distintos tipos (strings, números, etc.).\n",
    "\n",
    "a = {'anItem' : \"A\", 'anotherItem' : [\"a,bc\"], 3 : \"C\", 'afourthItem' : 7} # dictionary example\n",
    "print(a['anItem'])\n",
    "print(a['anotherItem'])\n",
    "print(a[3])"
   ]
  },
  {
   "cell_type": "code",
   "execution_count": 92,
   "metadata": {
    "scrolled": true
   },
   "outputs": [
    {
     "name": "stdout",
     "output_type": "stream",
     "text": [
      "anItem A\n",
      "anotherItem ['a,bc']\n",
      "3 C\n",
      "afourthItem 7\n"
     ]
    }
   ],
   "source": [
    "for i in a: print(i, a[i])\n",
    "# Recorre el diccionario 'a' iterando sobre sus claves.\n",
    "# i toma cada clave del diccionario.\n",
    "# a[i] obtiene el valor asociado a esa clave."
   ]
  },
  {
   "cell_type": "code",
   "execution_count": 93,
   "metadata": {},
   "outputs": [
    {
     "name": "stdout",
     "output_type": "stream",
     "text": [
      "Keys: dict_keys(['anItem', 'anotherItem', 3, 'afourthItem'])\n",
      "Values: dict_values(['A', ['a,bc'], 'C', 7])\n"
     ]
    }
   ],
   "source": [
    "print(\"Keys:\", a.keys())\n",
    "print(\"Values:\", a.values())"
   ]
  },
  {
   "cell_type": "markdown",
   "metadata": {},
   "source": [
    "## Sets"
   ]
  },
  {
   "cell_type": "markdown",
   "metadata": {},
   "source": [
    "Sets are used to store multiple items in a single variable, but differently from lists and dictionaries, they are unordered and do not support duplicates.\n",
    "In addition you cannot access items in a set by referring to an index or a key, but you can loop through the set items using a for loop, or ask if a specified value is present in a set, by using the in keyword."
   ]
  },
  {
   "cell_type": "code",
   "execution_count": 94,
   "metadata": {},
   "outputs": [
    {
     "name": "stdout",
     "output_type": "stream",
     "text": [
      "{'apple', 'cherry', 2}\n"
     ]
    }
   ],
   "source": [
    "a = {\"apple\", 2, \"cherry\", 2}\n",
    "print(a)"
   ]
  },
  {
   "cell_type": "code",
   "execution_count": 95,
   "metadata": {},
   "outputs": [
    {
     "ename": "TypeError",
     "evalue": "'set' object is not subscriptable",
     "output_type": "error",
     "traceback": [
      "\u001b[0;31m---------------------------------------------------------------------------\u001b[0m",
      "\u001b[0;31mTypeError\u001b[0m                                 Traceback (most recent call last)",
      "Cell \u001b[0;32mIn[95], line 1\u001b[0m\n\u001b[0;32m----> 1\u001b[0m \u001b[38;5;28mprint\u001b[39m(a[\u001b[38;5;241m1\u001b[39m])\n",
      "\u001b[0;31mTypeError\u001b[0m: 'set' object is not subscriptable"
     ]
    }
   ],
   "source": [
    "print(a[1])"
   ]
  },
  {
   "cell_type": "code",
   "execution_count": 96,
   "metadata": {},
   "outputs": [
    {
     "name": "stdout",
     "output_type": "stream",
     "text": [
      "apple\n",
      "cherry\n",
      "2\n"
     ]
    }
   ],
   "source": [
    "for i in a: print(i)"
   ]
  },
  {
   "cell_type": "code",
   "execution_count": 97,
   "metadata": {},
   "outputs": [
    {
     "name": "stdout",
     "output_type": "stream",
     "text": [
      "{'apple', 'cherry', 2, '3'}\n",
      "{'cherry', 2, 7, 'apple', '3', 'banana'}\n"
     ]
    }
   ],
   "source": [
    "a.add(\"3\")\n",
    "print(a)\n",
    "a.update({7, \"banana\"})\n",
    "print(a)"
   ]
  }
 ],
 "metadata": {
  "kernelspec": {
   "display_name": "Python [conda env:base] *",
   "language": "python",
   "name": "conda-base-py"
  },
  "language_info": {
   "codemirror_mode": {
    "name": "ipython",
    "version": 3
   },
   "file_extension": ".py",
   "mimetype": "text/x-python",
   "name": "python",
   "nbconvert_exporter": "python",
   "pygments_lexer": "ipython3",
   "version": "3.13.5"
  }
 },
 "nbformat": 4,
 "nbformat_minor": 4
}
