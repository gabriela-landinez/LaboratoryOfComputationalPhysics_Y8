{
 "cells": [
  {
   "cell_type": "markdown",
   "metadata": {},
   "source": [
    "1. The MickeyMouse problem\n",
    "\n",
    "a) Write a program that prints the numbers from 1 to 100. But for multiples of 3 print `Mickey` instead of the corresponding number and for the multiples of 5 print `Mouse`. For numbers which are multiples of both three and five print `MickeyMouse`\n",
    "\n",
    "b) Put the result in a tuple and substitute `Mickey` with `Donald` and `Mouse` with `Duck`"
   ]
  },
  {
   "cell_type": "code",
   "execution_count": 1,
   "metadata": {},
   "outputs": [
    {
     "name": "stdout",
     "output_type": "stream",
     "text": [
      "1\n",
      "2\n",
      "3 Mickey\n",
      "4\n",
      "5 Mouse\n",
      "6 Mickey\n",
      "7\n",
      "8\n",
      "9 Mickey\n",
      "10 Mouse\n",
      "11\n",
      "12 Mickey\n",
      "13\n",
      "14\n",
      "15 MickeyMouse\n",
      "16\n",
      "17\n",
      "18 Mickey\n",
      "19\n",
      "20 Mouse\n",
      "21 Mickey\n",
      "22\n",
      "23\n",
      "24 Mickey\n",
      "25 Mouse\n",
      "26\n",
      "27 Mickey\n",
      "28\n",
      "29\n",
      "30 MickeyMouse\n",
      "31\n",
      "32\n",
      "33 Mickey\n",
      "34\n",
      "35 Mouse\n",
      "36 Mickey\n",
      "37\n",
      "38\n",
      "39 Mickey\n",
      "40 Mouse\n",
      "41\n",
      "42 Mickey\n",
      "43\n",
      "44\n",
      "45 MickeyMouse\n",
      "46\n",
      "47\n",
      "48 Mickey\n",
      "49\n",
      "50 Mouse\n",
      "51 Mickey\n",
      "52\n",
      "53\n",
      "54 Mickey\n",
      "55 Mouse\n",
      "56\n",
      "57 Mickey\n",
      "58\n",
      "59\n",
      "60 MickeyMouse\n",
      "61\n",
      "62\n",
      "63 Mickey\n",
      "64\n",
      "65 Mouse\n",
      "66 Mickey\n",
      "67\n",
      "68\n",
      "69 Mickey\n",
      "70 Mouse\n",
      "71\n",
      "72 Mickey\n",
      "73\n",
      "74\n",
      "75 MickeyMouse\n",
      "76\n",
      "77\n",
      "78 Mickey\n",
      "79\n",
      "80 Mouse\n",
      "81 Mickey\n",
      "82\n",
      "83\n",
      "84 Mickey\n",
      "85 Mouse\n",
      "86\n",
      "87 Mickey\n",
      "88\n",
      "89\n",
      "90 MickeyMouse\n",
      "91\n",
      "92\n",
      "93 Mickey\n",
      "94\n",
      "95 Mouse\n",
      "96 Mickey\n",
      "97\n",
      "98\n",
      "99 Mickey\n",
      "100 Mouse\n"
     ]
    }
   ],
   "source": [
    "## Solution 1a\n",
    "\n",
    "for i in range (1,101):\n",
    "    if i%3==0 and i%5==0:\n",
    "        print (i,\"MickeyMouse\")\n",
    "    elif i%3==0:\n",
    "        print (i,\"Mickey\")\n",
    "    elif i%5==0:\n",
    "        print (i,\"Mouse\")\n",
    "    else:\n",
    "        print (i)"
   ]
  },
  {
   "cell_type": "code",
   "execution_count": 10,
   "metadata": {},
   "outputs": [
    {
     "data": {
      "text/plain": [
       "(1,\n",
       " 2,\n",
       " 'Donald',\n",
       " 4,\n",
       " 'Duck',\n",
       " 'Donald',\n",
       " 7,\n",
       " 8,\n",
       " 'Donald',\n",
       " 'Duck',\n",
       " 11,\n",
       " 'Donald',\n",
       " 13,\n",
       " 14,\n",
       " 'DonaldDuck',\n",
       " 16,\n",
       " 17,\n",
       " 'Donald',\n",
       " 19,\n",
       " 'Duck',\n",
       " 'Donald',\n",
       " 22,\n",
       " 23,\n",
       " 'Donald',\n",
       " 'Duck',\n",
       " 26,\n",
       " 'Donald',\n",
       " 28,\n",
       " 29,\n",
       " 'DonaldDuck',\n",
       " 31,\n",
       " 32,\n",
       " 'Donald',\n",
       " 34,\n",
       " 'Duck',\n",
       " 'Donald',\n",
       " 37,\n",
       " 38,\n",
       " 'Donald',\n",
       " 'Duck',\n",
       " 41,\n",
       " 'Donald',\n",
       " 43,\n",
       " 44,\n",
       " 'DonaldDuck',\n",
       " 46,\n",
       " 47,\n",
       " 'Donald',\n",
       " 49,\n",
       " 'Duck',\n",
       " 'Donald',\n",
       " 52,\n",
       " 53,\n",
       " 'Donald',\n",
       " 'Duck',\n",
       " 56,\n",
       " 'Donald',\n",
       " 58,\n",
       " 59,\n",
       " 'DonaldDuck',\n",
       " 61,\n",
       " 62,\n",
       " 'Donald',\n",
       " 64,\n",
       " 'Duck',\n",
       " 'Donald',\n",
       " 67,\n",
       " 68,\n",
       " 'Donald',\n",
       " 'Duck',\n",
       " 71,\n",
       " 'Donald',\n",
       " 73,\n",
       " 74,\n",
       " 'DonaldDuck',\n",
       " 76,\n",
       " 77,\n",
       " 'Donald',\n",
       " 79,\n",
       " 'Duck',\n",
       " 'Donald',\n",
       " 82,\n",
       " 83,\n",
       " 'Donald',\n",
       " 'Duck',\n",
       " 86,\n",
       " 'Donald',\n",
       " 88,\n",
       " 89,\n",
       " 'DonaldDuck',\n",
       " 91,\n",
       " 92,\n",
       " 'Donald',\n",
       " 94,\n",
       " 'Duck',\n",
       " 'Donald',\n",
       " 97,\n",
       " 98,\n",
       " 'Donald',\n",
       " 'Duck')"
      ]
     },
     "execution_count": 10,
     "metadata": {},
     "output_type": "execute_result"
    }
   ],
   "source": [
    "# Solution 1b\n",
    "MickeyMouse_List = []\n",
    "\n",
    "# Rellenar mi lista como en el inciso a\n",
    "for i in range (1,101):\n",
    "    if i%3==0 and i%5==0:\n",
    "        MickeyMouse_List.append(\"MickeyMouse\")\n",
    "    elif i%3==0:\n",
    "        MickeyMouse_List.append(\"Mickey\")\n",
    "    elif i%5==0:\n",
    "        MickeyMouse_List.append(\"Mouse\")\n",
    "    else:\n",
    "        MickeyMouse_List.append(i)\n",
    "\n",
    "# Cambiar los nombres con otro loop but inside the new list called DonaldDuck_List\n",
    "\n",
    "DonaldDuck_List = [\"DonaldDuck\" if j==\"MickeyMouse\" \n",
    "     else \"Donald\" if j==\"Mickey\" \n",
    "     else \"Duck\" if j==\"Mouse\"\n",
    "     else j\n",
    " for j in MickeyMouse_List]\n",
    "\n",
    "# Check the list\n",
    "# DonaldDuck_List\n",
    "\n",
    "# Convertir lista a tupla\n",
    "NotListAnymore = tuple(DonaldDuck_List)\n",
    "#type(NotListAnymore)\n",
    "NotListAnymore"
   ]
  },
  {
   "cell_type": "markdown",
   "metadata": {},
   "source": [
    "2\\. The swap function\n",
    "\n",
    "Write a function that swap the values of two input variables x and y (whatever the type). Try to do that also without a temporary variable"
   ]
  },
  {
   "cell_type": "code",
   "execution_count": 19,
   "metadata": {},
   "outputs": [
    {
     "data": {
      "text/plain": [
       "(81, 25)"
      ]
     },
     "execution_count": 19,
     "metadata": {},
     "output_type": "execute_result"
    }
   ],
   "source": [
    "# Solution 2\n",
    "\n",
    "def swap_function(x,y):\n",
    "    return (y,x)\n",
    "\n",
    "swap_function(\"Hola\", \"Andrés\")\n",
    "swap_function(25,81)"
   ]
  },
  {
   "cell_type": "markdown",
   "metadata": {},
   "source": [
    "3\\. Computing the distance\n",
    "\n",
    "Write a function that calculates and returns the euclidean distance between two points *u* and *v*, where *u* and *v* are both 2-tuples *(x,y)*. For example, if *u=(3,0)* and *v=(0,4)*, the function should return 5"
   ]
  },
  {
   "cell_type": "code",
   "execution_count": 28,
   "metadata": {},
   "outputs": [
    {
     "data": {
      "text/plain": [
       "5.0"
      ]
     },
     "execution_count": 28,
     "metadata": {},
     "output_type": "execute_result"
    }
   ],
   "source": [
    "# Solution 3\n",
    "\n",
    "import math as mt \n",
    "\n",
    "def euclidean_distance(u,v):\n",
    "    return mt.sqrt( (u[0] - v[0])**2 + (u[1] - v[1])**2 )\n",
    "\n",
    "u = (3,0)\n",
    "v = (0,4)\n",
    "euclidean_distance(u,v)"
   ]
  },
  {
   "cell_type": "markdown",
   "metadata": {},
   "source": [
    "4\\. Counting letters\n",
    "\n",
    "Write a program to calculate the number of times each character occurs in a given string *s*. Ignore differneces in capitalization"
   ]
  },
  {
   "cell_type": "code",
   "execution_count": 66,
   "metadata": {},
   "outputs": [
    {
     "name": "stdout",
     "output_type": "stream",
     "text": [
      "{'g': 2, 'a': 4, 'b': 1, 'r': 2, 'i': 2, 'e': 3, 'l': 3, ' ': 2, 'n': 3, 'd': 1, 'z': 1}\n"
     ]
    }
   ],
   "source": [
    "s = \"Gabriela Landinez Rangel\"\n",
    "s = s.lower()\n",
    "\n",
    "d = {}\n",
    "\n",
    "for character in s:\n",
    "    #print (character)\n",
    "    if character not in d:\n",
    "        d[character] = 1\n",
    "    else :\n",
    "        d[character] = d[character] + 1 \n",
    "        \n",
    "print(d)\n",
    "\n",
    "#PENDIENTE REVISAR"
   ]
  },
  {
   "cell_type": "code",
   "execution_count": null,
   "metadata": {},
   "outputs": [],
   "source": [
    "s=\"Write a program that prints the numbers from 1 to 100. \\\n",
    "But for multiples of three print Mickey instead of the number and for the multiples of five print Mouse. \\\n",
    "For numbers which are multiples of both three and five print MickeyMouse\""
   ]
  },
  {
   "cell_type": "markdown",
   "metadata": {},
   "source": [
    "5\\. Isolating the unique\n",
    "\n",
    "Write a function that determines and count the unique numbers in the list *l*"
   ]
  },
  {
   "cell_type": "code",
   "execution_count": null,
   "metadata": {},
   "outputs": [],
   "source": [
    "l = [36, 45, 58, 3, 74, 96, 64, 45, 31, 10, 24, 19, 33, 86, 99, 18, 63, 70, 85,\n",
    " 85, 63, 47, 56, 42, 70, 84, 88, 55, 20, 54, 8, 56, 51, 79, 81, 57, 37, 91,\n",
    " 1, 84, 84, 36, 66, 9, 89, 50, 42, 91, 50, 95, 90, 98, 39, 16, 82, 31, 92, 41,\n",
    " 45, 30, 66, 70, 34, 85, 94, 5, 3, 36, 72, 91, 84, 34, 87, 75, 53, 51, 20, 89, 51, 20]"
   ]
  },
  {
   "cell_type": "markdown",
   "metadata": {},
   "source": [
    "6\\. Combination of functions\n",
    "\n",
    "Write two functions - one that returns the square of a number, and one that returns the cube. Now write a third function that returns the number raised to the 6th power using the two previous functions."
   ]
  },
  {
   "cell_type": "markdown",
   "metadata": {},
   "source": [
    "7\\. Cubes\n",
    "\n",
    "Create a list of the cubes of x for x in *[0, 10]* using:\n",
    "\n",
    "a) a for loop\n",
    "\n",
    "b) a list comprehension"
   ]
  },
  {
   "cell_type": "markdown",
   "metadata": {},
   "source": [
    "8\\. Nested list comprehension\n",
    "\n",
    "A Pythagorean triple is an integer solution to the Pythagorean theorem $a^2+b^2=c^2$. The first Pythagorean triple is (3,4,5). Find and put in a tuple all unique Pythagorean triples for the positive integers a, b and c less than 100."
   ]
  },
  {
   "cell_type": "markdown",
   "metadata": {},
   "source": [
    "9\\. Normalization\n",
    "\n",
    "Write a function that takes a tuple of numbers and returns it with the entries normalized to one"
   ]
  },
  {
   "cell_type": "code",
   "execution_count": null,
   "metadata": {},
   "outputs": [],
   "source": []
  }
 ],
 "metadata": {
  "kernelspec": {
   "display_name": "Python [conda env:base] *",
   "language": "python",
   "name": "conda-base-py"
  },
  "language_info": {
   "codemirror_mode": {
    "name": "ipython",
    "version": 3
   },
   "file_extension": ".py",
   "mimetype": "text/x-python",
   "name": "python",
   "nbconvert_exporter": "python",
   "pygments_lexer": "ipython3",
   "version": "3.13.5"
  }
 },
 "nbformat": 4,
 "nbformat_minor": 4
}
